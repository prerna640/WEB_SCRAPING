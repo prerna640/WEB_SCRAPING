{
 "cells": [
  {
   "cell_type": "code",
   "execution_count": 229,
   "metadata": {},
   "outputs": [],
   "source": [
    "#import all the required libraries\n",
    "import pandas as pd\n",
    "import selenium\n",
    "from selenium import webdriver\n",
    "from selenium.common.exceptions import StaleElementReferenceException, NoSuchElementException\n",
    "# Importing Libraries\n",
    "import pandas as pd\n",
    "from bs4 import BeautifulSoup\n",
    "import requests\n",
    "import selenium\n",
    "from selenium import webdriver\n",
    "import time\n",
    "from selenium import webdriver\n",
    "from selenium.webdriver.common.keys import Keys\n",
    "import selenium\n",
    "import pandas as pd\n",
    "from selenium.webdriver.common.by import By\n",
    "from selenium import webdriver\n",
    "import time #using time.sleep functions\n",
    "from selenium.webdriver.common.by import By\n",
    "from selenium.webdriver.support.ui import WebDriverWait\n",
    "from selenium.webdriver.support import expected_conditions as EC\n",
    "import re"
   ]
  },
  {
   "cell_type": "markdown",
   "metadata": {},
   "source": [
    "# 1. Write a python program which searches all the product under a particular product vertical from www.amazon.in. The product verticals to be searched will be taken as input from user. For e.g. If user input is ‘guitar’. Then search for guitars.\n"
   ]
  },
  {
   "cell_type": "code",
   "execution_count": 302,
   "metadata": {},
   "outputs": [
    {
     "name": "stdout",
     "output_type": "stream",
     "text": [
      "Enter the product you want to search : ear boats\n"
     ]
    }
   ],
   "source": [
    "driver=webdriver.Chrome(r\"D:\\flipnwork\\chromedriver.exe \")\n",
    "url=\"https://www.amazon.in/\"\n",
    "driver.get(url)\n",
    "\n",
    "#locating the search bar\n",
    "search=driver.find_element_by_id(\"twotabsearchtextbox\")\n",
    "search.clear()\n",
    "inp = input('Enter the product you want to search : ') #enter earboats\n",
    "search.send_keys(inp)\n"
   ]
  },
  {
   "cell_type": "code",
   "execution_count": 303,
   "metadata": {},
   "outputs": [],
   "source": [
    "button=driver.find_element_by_id(\"nav-search-submit-button\")\n",
    "button.click()"
   ]
  },
  {
   "cell_type": "markdown",
   "metadata": {},
   "source": [
    "# 2. In the above question, now scrape the following details of each product listed in first 3 pages of your search results and save it in a dataframe and csv. In case if any product vertical has less than 3 pages in search results then scrape all the products available under that product vertical. Details to be scraped are: \"Brand Name\", \"Name of the Product\", \"Rating\", \"No. of Ratings\", \"Price\", \"Return/Exchange\", \"Expected Delivery\", \"Availability\", \"Other Details\" and “Product URL”. In case, if any of the details are missing for any of the product then replace it by “-“."
   ]
  },
  {
   "cell_type": "code",
   "execution_count": 304,
   "metadata": {},
   "outputs": [],
   "source": [
    "try:\n",
    "    driver.find_element_by_xpath(\"//div[@class='a-section a-spacing-none s-result-item s-flex-full-width s-widget']\")\n",
    "    driver.execute_script(\"(new XPathEvaluator().createExpression(\\\"//div[@class='a-section a-spacing-none s-result-item s-flex-full-width s-widget']\\\").evaluate(document, XPathResult.FIRST_ORDERED_NODE_TYPE).singleNodeValue).innerHTML=\\\"\\\"\")\n",
    "except:\n",
    "    \"\""
   ]
  },
  {
   "cell_type": "raw",
   "metadata": {},
   "source": [
    "titles=[]\n",
    "job_title=[]\n",
    "#scraping the job-titles\n",
    "titles=driver.find_elements_by_xpath(\"//span[@class='a-size-medium a-color-base a-text-normal']\")\n",
    "for i in titles:\n",
    "    if i.text is None :\n",
    "        job_title.append(\"--\") \n",
    "    else:\n",
    "        job_title.append(i.text)\n",
    "\n",
    "brand=list(next(zip(*map(str.split, job_title))))\n",
    "brand\n",
    "prod_dict=[]=[]\n",
    "price=[]\n",
    "price1=[]\n",
    "price=driver.find_elements_by_xpath(\"//span[@class='a-price-whole']\")\n",
    "for i in price:\n",
    "    if i.text is None :\n",
    "        price1.append(\"--\") \n",
    "    else:\n",
    "        price1.append(i.text)\n",
    "        \n",
    "        \n",
    "numberofrating=[]\n",
    "numberofrating1=[]\n",
    "#scraping the job-titles\n",
    "numberofrating=driver.find_elements_by_xpath(\"//span[@class='a-size-base']\")\n",
    "for i in numberofrating:\n",
    "    if i.text is None :\n",
    "        numberofrating1.append(\"--\") \n",
    "    else:\n",
    "        numberofrating1.append(i.text)\n",
    "\n",
    "#locating Ratings\n",
    "urls=driver.find_elements_by_xpath(\"//a[@class='a-link-normal a-text-normal']\")#collecting urls of all the laptop\n",
    "UR=[]\n",
    "for i in urls:\n",
    "    UR.append(i.get_attribute('href'))#getting the url of first 10 laptops\n",
    "Expected=[]\n",
    "Expected1=[]\n",
    "Expected1=driver.find_elements_by_xpath(\"//div[@class='a-row s-align-children-center']\")\n",
    "for i in Expected1:\n",
    "    if i.text is None :\n",
    "        Expected.append(\"--\") \n",
    "    else:\n",
    "        Expected.append(i.text)\n",
    "\n",
    "#locating Ratings\n",
    "urls=driver.find_elements_by_xpath(\"//a[@class='a-link-normal a-text-normal']\")#collecting urls of all the laptop\n",
    "UR=[]\n",
    "rate=[]\n",
    "Ratings=[]\n",
    "rating=[]\n",
    "returnexchange=[]\n",
    "ex=[]\n",
    "availability=[]\n",
    "available=[]\n",
    "brand=[]\n",
    "brandinfo=[]\n",
    "for i in urls[:26]:\n",
    "    UR.append(i.get_attribute('href'))#getting the url of  laptops\n",
    "for url in UR:#loop for every laptop in the list\n",
    "    driver.get(url)\n",
    "    try:                  #exception handling for nosuchelementexception\n",
    "        returnexchange=driver.find_element_by_css_selector(\"#icon-farm-container > div > div:nth-child(2) > span > div.a-section.a-spacing-none.icon-content > a\")\n",
    "        ex.append(returnexchange.text)\n",
    "        brand=driver.find_element_by_css_selector(\"#bylineInfo\")\n",
    "        brandinfo.append(brand.text)\n",
    "        availability=driver.find_element_by_css_selector(\"#availability > span\")\n",
    "        available.append(availability.text)\n",
    "        rate=driver.find_element_by_xpath(\"//span[@id='acrCustomerReviewText']\")#locating the ratingd link\n",
    "        rate.click()                                                      #click the rating link found\n",
    "        rating=driver.find_element_by_xpath(\"//span[@class='a-size-medium a-color-base']\")#locating the rating\n",
    "        Ratings.append(rating.text)#appending the ratings in Ratings list\n",
    "        \n",
    "    except NoSuchElementException   as e:\n",
    "        Ratings.append(\"NO rating\")\n",
    "        available.append(\"no information\")\n",
    "        ex.append(\"no return\")\n",
    "        \n",
    "    time.sleep(5)        \n",
    "    nxt_button =     # Locating the next_button which is activ                                                   # Clicking the next button\n",
    "    time.sleep(5)"
   ]
  },
  {
   "cell_type": "code",
   "execution_count": 305,
   "metadata": {},
   "outputs": [],
   "source": [
    "for i in range(0,4):\n",
    "    titles=[]\n",
    "    job_title=[]\n",
    "    #scraping the job-titles\n",
    "    titles=driver.find_elements_by_xpath(\"//span[@class='a-size-medium a-color-base a-text-normal']\")\n",
    "    for i in titles:\n",
    "        if i.text is None :\n",
    "            job_title.append(\"--\") \n",
    "        else:\n",
    "            job_title.append(i.text)\n",
    "\n",
    "    #brand=list(next(zip(*map(str.split, job_title))))\n",
    "    price=[]\n",
    "    price1=[]\n",
    "    price=driver.find_elements_by_xpath(\"//span[@class='a-price-whole']\")\n",
    "    for i in price:\n",
    "        if i.text is None :\n",
    "            price1.append(\"--\") \n",
    "        else:\n",
    "            price1.append(i.text)\n",
    "\n",
    "\n",
    "    numberofrating=[]\n",
    "    numberofrating1=[]\n",
    "    #scraping the job-titles\n",
    "    numberofrating=driver.find_elements_by_xpath(\"//span[@class='a-size-base']\")\n",
    "    for i in numberofrating:\n",
    "        if i.text is None :\n",
    "            numberofrating1.append(\"--\") \n",
    "        else:\n",
    "            numberofrating1.append(i.text)\n",
    "\n",
    "    #locating Ratings\n",
    "    urls=driver.find_elements_by_xpath(\"//a[@class='a-link-normal a-text-normal']\")#collecting urls of all the laptop\n",
    "    UR=[]\n",
    "    for i in urls:\n",
    "        UR.append(i.get_attribute('href'))#getting the url of first 10 laptops\n",
    "    Expected=[]\n",
    "    Expected1=[]\n",
    "    Expected1=driver.find_elements_by_xpath(\"//div[@class='a-row s-align-children-center']\")\n",
    "    for i in Expected1:\n",
    "        if i.text is None :\n",
    "            Expected.append(\"--\") \n",
    "        else:\n",
    "            Expected.append(i.text)\n",
    "\n",
    "    #locating Ratings\n",
    "    urls=driver.find_elements_by_xpath(\"//a[@class='a-link-normal a-text-normal']\")#collecting urls of all the laptop\n",
    "    UR=[]\n",
    "    rate=[]\n",
    "    Ratings=[]\n",
    "    rating=[]\n",
    "    returnexchange=[]\n",
    "    ex=[]\n",
    "    availability=[]\n",
    "    available=[]\n",
    "    brand=[]\n",
    "    brandinfo=[]\n",
    "    for i in urls[:26]:\n",
    "        UR.append(i.get_attribute('href'))#getting the url of  laptops\n",
    "    for url in UR:#loop for every laptop in the list\n",
    "        driver.get(url)\n",
    "        try:                  #exception handling for nosuchelementexception\n",
    "            returnexchange=driver.find_element_by_css_selector(\"#icon-farm-container > div > div:nth-child(2) > span > div.a-section.a-spacing-none.icon-content > a\")\n",
    "            ex.append(returnexchange.text)\n",
    "            availability=driver.find_element_by_css_selector(\"#availability > span\")\n",
    "            available.append(availability.text)\n",
    "            rate=driver.find_element_by_xpath(\"//span[@id='acrCustomerReviewText']\")#locating the ratingd link\n",
    "            rate.click()                                                      #click the rating link found\n",
    "            rating=driver.find_element_by_xpath(\"//span[@class='a-size-medium a-color-base']\")#locating the rating\n",
    "            Ratings.append(rating.text)#appending the ratings in Ratings list\n",
    "\n",
    "        except NoSuchElementException   as e:\n",
    "            Ratings.append(\"NO rating\")\n",
    "            available.append(\"no information\")\n",
    "            ex.append(\"no return\")\n",
    "    if i == 0:\n",
    "        url=\"https://www.amazon.in/s?k=ear+boats&qid=1612714561&ref=sr_pg_1\"\n",
    "        driver.get(url)\n",
    "        nxt_button = driver.find_element_by_xpath('//li[@class=\"a-last\"]/a').click()    # Locating the next_button which is activ                                                   # Clicking the next button\n",
    "        time.sleep(5)\n",
    "    elif i==1:\n",
    "        url=\"https://www.amazon.in/s?k=ear+boats&page=2&qid=1612714863&ref=sr_pg_2\"\n",
    "        driver.get(url)\n",
    "        nxt_button = driver.find_element_by_xpath('//li[@class=\"a-last\"]/a').click()    # Locating the next_button which is activ                                                   # Clicking the next button\n",
    "        time.sleep(5)\n",
    "    else:\n",
    "        url=\"https://www.amazon.in/s?k=ear+boats&page=3&qid=1612715004&ref=sr_pg_3\"\n",
    "        driver.get(url)\n",
    "        nxt_button = driver.find_element_by_xpath('//li[@class=\"a-last\"]/a').click()    # Locating the next_button which is activ                                                   # Clicking the next button\n",
    "        time.sleep(5)\n",
    "        \n",
    "        "
   ]
  },
  {
   "cell_type": "code",
   "execution_count": 300,
   "metadata": {},
   "outputs": [
    {
     "name": "stdout",
     "output_type": "stream",
     "text": [
      "i\n",
      "i\n",
      "i\n",
      "i\n"
     ]
    }
   ],
   "source": [
    "for _ in range(0,4):\n",
    "    print(\"i\")   \n",
    "    \n",
    "    nxt_button = driver.find_element_by_xpath('//li[@class=\"a-last\"]/a').click()    # Locating the next_button which is activ                                                   # Clicking the next button\n",
    "    time.sleep(5)\n",
    "    "
   ]
  },
  {
   "cell_type": "code",
   "execution_count": null,
   "metadata": {},
   "outputs": [],
   "source": [
    "driver.back"
   ]
  },
  {
   "cell_type": "code",
   "execution_count": 306,
   "metadata": {},
   "outputs": [
    {
     "name": "stdout",
     "output_type": "stream",
     "text": [
      "21 21 20 20 20 19 20 23\n"
     ]
    }
   ],
   "source": [
    "print(len(ex),len(available),len(Ratings),len(Expected1),len(UR),len(numberofrating1),len(job_title),len(price1))"
   ]
  },
  {
   "cell_type": "markdown",
   "metadata": {},
   "source": [
    "#   q-3-Write a python program to access the search bar and search button on images.google.com and scrape 100 images each for keywords ‘fruits’, ‘cars’ and ‘Machine Learning’."
   ]
  },
  {
   "cell_type": "code",
   "execution_count": 25,
   "metadata": {},
   "outputs": [],
   "source": [
    "from urllib.request import urlopen \n",
    "from bs4 import BeautifulSoup \n",
    "  \n",
    "search=[]\n",
    "search1=[]\n",
    "\n",
    "driver=webdriver.Chrome(r\"D:\\flipnwork\\chromedriver.exe \")\n",
    "url=\"https://images.google.com/?gws_rd=ssl\"\n",
    "driver.get(url)\n",
    "\n",
    "#locating the search bar\n",
    "search=driver.find_element_by_xpath(\"//input[@class='gLFyf gsfi']\")\n",
    "search.clear()\n",
    "search.send_keys('fruits')\n",
    "time.sleep(5)\n",
    "search1=driver.find_element_by_xpath(\"//span[@class='z1asCe MZy1Rb']\")\n",
    "search1.click()"
   ]
  },
  {
   "cell_type": "code",
   "execution_count": null,
   "metadata": {},
   "outputs": [],
   "source": [
    "print(\"start scrolling to generate more images on the page...\")\n",
    "# 500 time we scroll down by 10000 in order to generate more images on the website\n",
    "for _ in range(500):\n",
    "    driver.execute_script(\"window.scrollBy(0,10000)\")"
   ]
  },
  {
   "cell_type": "code",
   "execution_count": null,
   "metadata": {},
   "outputs": [],
   "source": [
    " images = driver.find_elements_by_xpath('//img[@class=\"rg_i Q4LuWd\"]')"
   ]
  },
  {
   "cell_type": "code",
   "execution_count": null,
   "metadata": {},
   "outputs": [],
   "source": [
    "img_urls = []\n",
    "img_data = []\n",
    "for image in images:\n",
    "    source= image.get_attribute('src')\n",
    "    if source is not None:\n",
    "        if(source[0:4] == 'http'):\n",
    "            img_urls.append(source)\n",
    "len(img_urls)"
   ]
  },
  {
   "cell_type": "code",
   "execution_count": null,
   "metadata": {},
   "outputs": [],
   "source": [
    "for i in range(len(img_urls)):\n",
    "    if i >= 100:\n",
    "        break\n",
    "    print(\"Downloading {0} of {1} images\" .format(i, 100))\n",
    "    response= requests.get(img_urls[i])\n",
    "    file = open(\"C:/Users/sgi/Desktop/fliprobo/7-feb-2021/photos\"+str(i)+\".jpg\", \"wb\")\n",
    "    file.write(response.content)"
   ]
  },
  {
   "cell_type": "code",
   "execution_count": 24,
   "metadata": {},
   "outputs": [
    {
     "name": "stdout",
     "output_type": "stream",
     "text": [
      "Length of the list are ==>> 141 144 147\n",
      "                                               fruits  \\\n",
      "0   https://www.healthyeating.org/Healthy-Eating/A...   \n",
      "1   https://www.amazon.in/Fruits-All-One-Dreamland...   \n",
      "2                 https://en.wikipedia.org/wiki/Fruit   \n",
      "3   https://www.pinterest.com/pin/777363585661725897/   \n",
      "4    https://www.diagnosisdiet.com/full-article/fruit   \n",
      "..                                                ...   \n",
      "95  https://www.amazon.in/Fruits-All-One-Dreamland...   \n",
      "96                https://en.wikipedia.org/wiki/Fruit   \n",
      "97  https://www.pinterest.com/pin/777363585661725897/   \n",
      "98   https://www.diagnosisdiet.com/full-article/fruit   \n",
      "99         https://www.diabetes.co.uk/food/fruit.html   \n",
      "\n",
      "                                                 cars  \\\n",
      "0   https://www.forbes.com/sites/jimgorzelany/2019...   \n",
      "1   https://auto.economictimes.indiatimes.com/news...   \n",
      "2   https://www.wired.com/story/jd-power-korean-ca...   \n",
      "3   https://www.extremetech.com/extreme/303740-car...   \n",
      "4   https://www.caranddriver.com/features/g1538313...   \n",
      "..                                                ...   \n",
      "95  https://www.marketwatch.com/story/the-10-best-...   \n",
      "96  https://www.forbes.com/sites/jimgorzelany/2019...   \n",
      "97  https://auto.economictimes.indiatimes.com/news...   \n",
      "98  https://www.wired.com/story/jd-power-korean-ca...   \n",
      "99  https://www.extremetech.com/extreme/303740-car...   \n",
      "\n",
      "                                     machine_learning  \n",
      "0   https://www.forbes.com/sites/tomtaulli/2019/03...  \n",
      "1   https://becominghuman.ai/an-introduction-to-ma...  \n",
      "2   https://www.securityroundtable.org/the-growing...  \n",
      "3     https://www.geeksforgeeks.org/machine-learning/  \n",
      "4   https://www.thermofisher.com/blog/connectedlab...  \n",
      "..                                                ...  \n",
      "95  https://www.healthcareitnews.com/news/using-ma...  \n",
      "96  https://www.amazon.science/latest-news/machine...  \n",
      "97  https://cloud.withgoogle.com/build/data-analyt...  \n",
      "98  https://www.forbes.com/sites/tomtaulli/2019/03...  \n",
      "99  https://becominghuman.ai/an-introduction-to-ma...  \n",
      "\n",
      "[100 rows x 3 columns]\n"
     ]
    }
   ],
   "source": [
    "# Function Definition\n",
    "def google_img(url):\n",
    "    driver=webdriver.Chrome(r\"D:\\flipnwork\\chromedriver.exe \")\n",
    "    fruits=[]\n",
    "    cars=[]\n",
    "    machine_learning=[]\n",
    "#extracting fruits data\n",
    "    driver.get(url)\n",
    "    search_field_items=driver.find_element_by_xpath(\"//div[@class='a4bIc']/input\")\n",
    "    search_field_items.send_keys(\"fruits\")\n",
    "    search_button=driver.find_element_by_xpath(\"//button[@class='Tg7LZd']\")\n",
    "    search_button.click()\n",
    "    for i in range(0,3):\n",
    "        url_tags=driver.find_elements_by_xpath(\"//div[@class='islrc']//div[@class='isv-r PNCib MSM1fd BUooTd']//a[@class='VFACy kGQAp sMi44c lNHeqe WGvvNb']\")\n",
    "        for i in url_tags:\n",
    "            fruits.append(i.get_attribute('href'))   \n",
    "        time.sleep(2)\n",
    "#extracting car image data        \n",
    "    driver.get(url)\n",
    "    search_field_items=driver.find_element_by_xpath(\"//div[@class='a4bIc']/input\")\n",
    "    search_field_items.send_keys(\"cars\")\n",
    "    search_button=driver.find_element_by_xpath(\"//button[@class='Tg7LZd']\")\n",
    "    search_button.click()\n",
    "    for i in range(0,3):\n",
    "        url_tags=driver.find_elements_by_xpath(\"//div[@class='islrc']//div[@class='isv-r PNCib MSM1fd BUooTd']//a[@class='VFACy kGQAp sMi44c lNHeqe WGvvNb']\")\n",
    "        for i in url_tags:\n",
    "            cars.append(i.get_attribute('href'))   \n",
    "        time.sleep(2)\n",
    "#extracting machine learning imgae data        \n",
    "    driver.get(url)\n",
    "    search_field_items=driver.find_element_by_xpath(\"//div[@class='a4bIc']/input\")\n",
    "    search_field_items.send_keys(\"machine learning\")\n",
    "    search_button=driver.find_element_by_xpath(\"//button[@class='Tg7LZd']\")\n",
    "    search_button.click()\n",
    "    for i in range(0,3):\n",
    "        url_tags=driver.find_elements_by_xpath(\"//div[@class='islrc']//div[@class='isv-r PNCib MSM1fd BUooTd']//a[@class='VFACy kGQAp sMi44c lNHeqe WGvvNb']\")\n",
    "        for i in url_tags:\n",
    "            machine_learning.append(i.get_attribute('href'))   \n",
    "        \n",
    "        \n",
    "    \n",
    "        \n",
    "    print('Length of the list are ==>>',len(fruits),len(cars),len(machine_learning))\n",
    "    google_image=pd.DataFrame({'fruits':fruits[:100],\n",
    "                           'cars':cars[:100],\n",
    "                            'machine_learning':machine_learning[:100]})\n",
    "                            \n",
    "    print(google_image)\n",
    "    google_image.to_csv('google_image.csv', index = False)\n",
    "    \n",
    "    \n",
    "# Calling Function\n",
    "google_img('https://images.google.com/?gws_rd=ssl')"
   ]
  },
  {
   "cell_type": "markdown",
   "metadata": {},
   "source": [
    "# Q-4 Write a python program to search for a smartphone(e.g.: Oneplus Nord, pixel 4A, etc.) on www.flipkart.com and scrape following details for all the search results displayed on 1st page. Details to be scraped: “Brand Name”, “Smartphone name”, “Colour”, “RAM”, “Storage(ROM)”, “Primary Camera”, “Secondary Camera”, “Display Size”, “Display Resolution”, “Processor”, “Processor Cores”, “Battery Capacity”, “Price”, “Product URL”. Incase if any of the details is missing then replace it by “- “. Save your results in a dataframe and CSV."
   ]
  },
  {
   "cell_type": "code",
   "execution_count": 94,
   "metadata": {},
   "outputs": [],
   "source": [
    "driver=webdriver.Chrome(r\"D:\\flipnwork\\chromedriver.exe \")\n",
    "url=\"https://www.flipkart.com/\"\n",
    "driver.get(url)\n",
    "driver.page_source #html code of the browser\n",
    "driver.maximize_window()\n",
    "time.sleep(5)\n",
    "ele441=driver.find_element(By.CSS_SELECTOR,\"body > div._2Sn47c > div > div > button\").click()\n",
    "ele41=driver.find_element(By.CSS_SELECTOR,\"#container > div > div._1kfTjk > div._1rH5Jn > div._2Xfa2_ > div._1cmsER > form > div > div > input\") \n",
    "ele41.send_keys(\"Oneplus Nord\")\n",
    "eles=driver.find_element(By.CSS_SELECTOR,\"#container > div > div._1kfTjk > div._1rH5Jn > div._2Xfa2_ > div._1cmsER > form > div > button\").click()\n"
   ]
  },
  {
   "cell_type": "code",
   "execution_count": 100,
   "metadata": {},
   "outputs": [],
   "source": [
    "urls=[]\n",
    "UR=[]\n",
    "title=[]\n",
    "ti=[]\n",
    "rate=[]\n",
    "Ratings=[]\n",
    "rating=[]\n",
    "returnexchange=[]\n",
    "ex=[]\n",
    "availability=[]\n",
    "available=[]\n",
    "brand=[]\n",
    "brandinfo=[]\n",
    "price=[]\n",
    "p=[]\n",
    "color=[]\n",
    "co=[]\n",
    "ram=[]\n",
    "ram1=[]\n",
    "primarycamera=[]\n",
    "primarycamera1=[]\n",
    "secondarycamera=[]\n",
    "secondarycamera1=[]\n",
    "display=[]\n",
    "display1=[]\n",
    "DisplayResolution=[]\n",
    "DisplayResolution1=[]\n",
    "Processor=[]\n",
    "Processor1=[]\n",
    "ProcessorCores=[]\n",
    "ProcessorCores1=[]\n",
    "BatteryCapacity=[]\n",
    "BatteryCapacity1=[]\n",
    "button=[]"
   ]
  },
  {
   "cell_type": "code",
   "execution_count": 101,
   "metadata": {},
   "outputs": [],
   "source": [
    "#locating Ratings\n",
    "urls=driver.find_elements_by_xpath(\"//a[@class='_1fQZEK']\")#collecting urls of all the laptop\n",
    "\n",
    "for i in urls[:26]:\n",
    "    UR.append(i.get_attribute('href'))#getting the url of  laptops\n",
    "for url in UR:#loop for every laptop in the list\n",
    "    driver.get(url)\n",
    "    try:                  #exception handling for nosuchelementexception\n",
    "        title=driver.find_element_by_xpath(\"//span[@class='B_NuCI']\")\n",
    "        ti.append(title.text)\n",
    "        price=driver.find_element_by_xpath(\"//div[@class='_30jeq3 _16Jk6d']\")\n",
    "        p.append(price.text)\n",
    "        button=driver.find_element_by_css_selector(\"#container > div > div._2c7YLP.UtUXW0._6t1WkM._3HqJxg > div._1YokD2._2GoDe3 > div._1YokD2._3Mn1Gg.col-8-12 > div._1YokD2._3Mn1Gg > div:nth-child(4) > div > div:nth-child(2) > button\").click()\n",
    "        time.sleep(3)\n",
    "        color=driver.find_element_by_xpath('//div[@class=\"_3k-BhJ\"][1]/table/tbody/tr[4]/td[2]/ul/li')\n",
    "        ram=driver.find_element_by_css_selector(\"#container > div > div._2c7YLP.UtUXW0._6t1WkM._3HqJxg > div._1YokD2._2GoDe3 > div._1YokD2._3Mn1Gg.col-8-12 > div:nth-child(7) > div:nth-child(1) > div > div._2418kt > ul > li:nth-child(1)\")\n",
    "        ram1.append(ram.text)\n",
    "        primarycamera=driver..find_element_by_xpath(\"#container > div > div._2c7YLP.UtUXW0._6t1WkM._3HqJxg > div._1YokD2._2GoDe3 > div._1YokD2._3Mn1Gg.col-8-12 > div._1YokD2._3Mn1Gg > div:nth-child(4) > div > div:nth-child(2) > div._1UhVsV > div:nth-child(5) > table > tbody > tr:nth-child(2) > td.URwL2w.col.col-9-12 > ul > li\")\n",
    "        primarycamera1.append(primarycamera.text) \n",
    "        secondarycamera=driver..find_element_by_xpath()\n",
    "        secondarycamera1.append(secondarycamera.text)\n",
    "        display=driver.find_element_by_xpath('//div[@class=\"_3k-BhJ\"][2]/div')\n",
    "        display1.append(display.text)\n",
    "        DisplayResolution=driver.find_element_by_xpath('//div[@class=\"_3k-BhJ\"][2]/table[1]/tbody/tr[1]/td[2]/ul/li') \n",
    "        Processor=driver.find_element_by_css_selector\n",
    "        BatteryCapacity=driver..find_element_by_xpath()\n",
    "        BatteryCapacity1.append(BatteryCapacity.text)\n",
    "        time.sleep(8)\n",
    "    except NoSuchElementException   as e:\n",
    "        ti.append(\"NO Title\")\n",
    "        p.append(\"no information\")\n",
    "        co.append(\"no return\")\n",
    "        ram1.append(\"not specified\")\n",
    "        primarycamera1.append(\"no specified\")\n",
    "        secondarycamera1.append(\"--\")\n",
    "        display1.append(\"--\")\n",
    "        DisplayResolution1.append(\"--\")\n",
    "        Processor1.append(\"--\")\n",
    "        ProcessorCores1.append(\"--\")\n",
    "        BatteryCapacity1.append(\"--\")#appending the No rating if no rating is there\n"
   ]
  },
  {
   "cell_type": "code",
   "execution_count": 110,
   "metadata": {},
   "outputs": [
    {
     "data": {
      "text/plain": [
       "['no return',\n",
       " 'Gold',\n",
       " 'no return',\n",
       " 'Pink',\n",
       " 'no return',\n",
       " 'Gold Black',\n",
       " 'no return',\n",
       " 'Black&Red',\n",
       " 'no return',\n",
       " 'no return',\n",
       " 'Silver',\n",
       " 'no return',\n",
       " 'no return',\n",
       " 'Black&Red',\n",
       " 'no return',\n",
       " 'Black',\n",
       " 'no return',\n",
       " 'Red : Red',\n",
       " 'no return',\n",
       " 'no return',\n",
       " 'Black',\n",
       " 'no return',\n",
       " 'White',\n",
       " 'no return',\n",
       " 'Black & Blue',\n",
       " 'no return',\n",
       " 'Black',\n",
       " 'no return',\n",
       " 'Black & Red',\n",
       " 'no return',\n",
       " 'no return',\n",
       " 'Black Green',\n",
       " 'Rose Gold+black',\n",
       " 'no return',\n",
       " 'Black&Grey',\n",
       " 'no return',\n",
       " 'White',\n",
       " 'no return',\n",
       " 'Black',\n",
       " 'no return',\n",
       " 'no return']"
      ]
     },
     "execution_count": 110,
     "metadata": {},
     "output_type": "execute_result"
    }
   ],
   "source": [
    "driver=webdriver.Chrome(r\"D:\\flipnwork\\chromedriver.exe \")\n",
    "url=\"https://www.flipkart.com/micromax-bharat-2-plus-black-8-gb/p/itmey7v5cjqeryez?pid=MOBFGD4SGFZYQZBH&lid=LSTMOBFGD4SGFZYQZBHLPZ8QD&marketplace=FLIPKART&srno=s_1_24&otracker=search&otracker1=search&fm=SEARCH&iid=dd9c48cb-5eb2-4a40-8113-4b424bed639d.MOBFGD4SGFZYQZBH.SEARCH&ppt=hp&ppn=homepage&ssid=s6a36iiygw0000001612684960110&qH=53863d4d978d5074\"\n",
    "driver.get(url)\n",
    "driver.page_source #html code of the browser\n",
    "driver.maximize_window()\n",
    "time.sleep(5)"
   ]
  },
  {
   "cell_type": "code",
   "execution_count": 108,
   "metadata": {},
   "outputs": [
    {
     "data": {
      "text/plain": [
       "['--',\n",
       " '--',\n",
       " '--',\n",
       " '--',\n",
       " '--',\n",
       " '--',\n",
       " '--',\n",
       " '--',\n",
       " '--',\n",
       " '--',\n",
       " '--',\n",
       " '--',\n",
       " '--',\n",
       " '--',\n",
       " '--',\n",
       " '--',\n",
       " '--',\n",
       " '--',\n",
       " '1000 mAh',\n",
       " '--',\n",
       " '--',\n",
       " '--',\n",
       " '--',\n",
       " '--']"
      ]
     },
     "execution_count": 108,
     "metadata": {},
     "output_type": "execute_result"
    }
   ],
   "source": [
    "BatteryCapacity1"
   ]
  },
  {
   "cell_type": "code",
   "execution_count": null,
   "metadata": {},
   "outputs": [],
   "source": []
  },
  {
   "cell_type": "code",
   "execution_count": 66,
   "metadata": {},
   "outputs": [
    {
     "data": {
      "text/plain": [
       "['Motorola',\n",
       " 'Karbonn',\n",
       " 'Kechaoda',\n",
       " 'Karbonn',\n",
       " 'Samsung',\n",
       " 'Kechaoda',\n",
       " 'Kechaoda',\n",
       " 'Samsung',\n",
       " 'Kechaoda',\n",
       " 'Kechaoda',\n",
       " 'Kechaoda',\n",
       " 'Kechaoda',\n",
       " 'Gfive',\n",
       " 'Samsung',\n",
       " 'Apple',\n",
       " 'I',\n",
       " 'I',\n",
       " 'Karbonn',\n",
       " 'Karbonn',\n",
       " 'InFocus',\n",
       " 'Gfive',\n",
       " 'Gfive',\n",
       " 'Gfive',\n",
       " 'Jivi',\n",
       " 'Motorola',\n",
       " 'Motorola',\n",
       " 'Motorola',\n",
       " 'Motorola',\n",
       " 'Karbonn',\n",
       " 'Kechaoda',\n",
       " 'Karbonn',\n",
       " 'Samsung',\n",
       " 'Kechaoda',\n",
       " 'Kechaoda',\n",
       " 'Samsung',\n",
       " 'Kechaoda',\n",
       " 'Kechaoda',\n",
       " 'Kechaoda',\n",
       " 'Kechaoda',\n",
       " 'Gfive',\n",
       " 'Samsung',\n",
       " 'Apple',\n",
       " 'I',\n",
       " 'I',\n",
       " 'Karbonn',\n",
       " 'Karbonn',\n",
       " 'InFocus',\n",
       " 'Gfive',\n",
       " 'Gfive',\n",
       " 'Gfive',\n",
       " 'Jivi']"
      ]
     },
     "execution_count": 66,
     "metadata": {},
     "output_type": "execute_result"
    }
   ],
   "source": [
    "brand=list(next(zip(*map(str.split, ti))))"
   ]
  },
  {
   "cell_type": "code",
   "execution_count": 42,
   "metadata": {},
   "outputs": [
    {
     "data": {
      "text/plain": [
       "['Motorola One Fusion+ (Moonlight White, 128 GB)  (6 GB RAM)',\n",
       " 'Karbonn K24 Plus Pro  (Gold Black)',\n",
       " 'Kechaoda K116 Plus  (Silver)',\n",
       " 'Karbonn K5 Plus  (Black&Red)',\n",
       " 'Samsung Guru FM Plus  (Black)',\n",
       " 'Kechaoda K116 Plus  (Black)',\n",
       " 'Kechaoda K66 Plus  (Silver)',\n",
       " 'Samsung Guru FM Plus  (Dark Blue)',\n",
       " 'Kechaoda K-55 Plus  (Pink)',\n",
       " 'Kechaoda K-55 Plus  (Gold)',\n",
       " 'Kechaoda K66 Plus  (Gold)',\n",
       " 'Kechaoda K-55 Plus  (Silver)',\n",
       " 'Gfive U220 Plus Combo of Two Mobiles  (Red : Red)',\n",
       " 'Samsung Guru Plus B110  (Black)',\n",
       " 'Apple iPhone 7 Plus (Black, 32 GB)',\n",
       " 'I Kall K 38 Plus  (White)',\n",
       " 'I Kall K 38 Plus  (Black)',\n",
       " 'Karbonn K5 Plus  (Black&Red)',\n",
       " 'Karbonn K24+  (Black)',\n",
       " 'InFocus VIBE PLUS  (Black)',\n",
       " 'Gfive Plus  (Blue)',\n",
       " 'Gfive U220+  (Black & Red)',\n",
       " 'Gfive Plus  (Pink and Black/Pink)',\n",
       " 'Jivi 12M Plus  (Black Green)',\n",
       " 'Motorola One Fusion+ (Moonlight White, 128 GB)  (6 GB RAM)',\n",
       " 'Motorola One Fusion+ (Moonlight White, 128 GB)  (6 GB RAM)',\n",
       " 'Motorola One Fusion+ (Moonlight White, 128 GB)  (6 GB RAM)',\n",
       " 'Motorola One Fusion+ (Moonlight White, 128 GB)  (6 GB RAM)',\n",
       " 'Karbonn K24 Plus Pro  (Gold Black)',\n",
       " 'Kechaoda K116 Plus  (Silver)',\n",
       " 'Karbonn K5 Plus  (Black&Red)',\n",
       " 'Samsung Guru FM Plus  (Black)',\n",
       " 'Kechaoda K116 Plus  (Black)',\n",
       " 'Kechaoda K66 Plus  (Silver)',\n",
       " 'Samsung Guru FM Plus  (Dark Blue)',\n",
       " 'Kechaoda K-55 Plus  (Pink)',\n",
       " 'Kechaoda K-55 Plus  (Gold)',\n",
       " 'Kechaoda K66 Plus  (Gold)',\n",
       " 'Kechaoda K-55 Plus  (Silver)',\n",
       " 'Gfive U220 Plus Combo of Two Mobiles  (Red : Red)',\n",
       " 'Samsung Guru Plus B110  (Black)',\n",
       " 'Apple iPhone 7 Plus (Black, 32 GB)',\n",
       " 'I Kall K 38 Plus  (White)',\n",
       " 'I Kall K 38 Plus  (Black)',\n",
       " 'Karbonn K5 Plus  (Black&Red)',\n",
       " 'Karbonn K24+  (Black)',\n",
       " 'InFocus VIBE PLUS  (Black)',\n",
       " 'Gfive Plus  (Blue)',\n",
       " 'Gfive U220+  (Black & Red)',\n",
       " 'Gfive Plus  (Pink and Black/Pink)',\n",
       " 'Jivi 12M Plus  (Black Green)']"
      ]
     },
     "execution_count": 42,
     "metadata": {},
     "output_type": "execute_result"
    }
   ],
   "source": [
    "ti"
   ]
  },
  {
   "cell_type": "code",
   "execution_count": 27,
   "metadata": {},
   "outputs": [
    {
     "data": {
      "text/plain": [
       "['₹17,499',\n",
       " '₹17,499',\n",
       " '₹17,499',\n",
       " '₹17,499',\n",
       " '₹1,049',\n",
       " '₹1,199',\n",
       " '₹869',\n",
       " '₹1,590',\n",
       " '₹1,199',\n",
       " '₹1,199',\n",
       " '₹1,639',\n",
       " '₹1,090',\n",
       " '₹970',\n",
       " '₹1,199',\n",
       " '₹970',\n",
       " '₹1,129',\n",
       " '₹1,640',\n",
       " '₹37,900',\n",
       " '₹899',\n",
       " '₹899',\n",
       " '₹899',\n",
       " '₹1,199',\n",
       " '₹849',\n",
       " '₹799',\n",
       " '₹589',\n",
       " '₹799',\n",
       " '₹849']"
      ]
     },
     "execution_count": 27,
     "metadata": {},
     "output_type": "execute_result"
    }
   ],
   "source": [
    "p"
   ]
  },
  {
   "cell_type": "code",
   "execution_count": 28,
   "metadata": {},
   "outputs": [
    {
     "data": {
      "text/plain": [
       "['Handset, 18 W Turbo Power Charger, Protective Cover and Film, USB Type C Cable, SIM Tool, Guides',\n",
       " 'Handset, 18 W Turbo Power Charger, Protective Cover and Film, USB Type C Cable, SIM Tool, Guides',\n",
       " 'Handset, 18 W Turbo Power Charger, Protective Cover and Film, USB Type C Cable, SIM Tool, Guides',\n",
       " 'Handset, Charger, Battery, User Manual, Warranty Card',\n",
       " '1 Handset, 1 User Guide & 1 Data Cable',\n",
       " 'Handset, Battery, Charger, User Manual and Warranty Card',\n",
       " 'Mobile & Charger',\n",
       " '1 Handset, 1 User Guide & 1 Data Cable',\n",
       " 'Handset, Usb Cable',\n",
       " 'Handsfree, User Guide, Charger, Handset, Battery',\n",
       " 'USB Cable, BAttery, Handset',\n",
       " 'USB Cable, BAttery, Handset',\n",
       " 'Mobile, USB',\n",
       " 'USB Cable, BAttery, Handset',\n",
       " 'Handset,Battery,Charger,User Manual',\n",
       " 'Travel Adaptor, Handset, Battery, Stereo Headset',\n",
       " 'iPhone with iOS 13, EarPods with Lightning Connector, Lightning to USB Cable, USB Power Adapter, Documentation',\n",
       " 'Handset, Battery, Charger',\n",
       " 'Handset, Battery, Charger and User Manual',\n",
       " '1U Handset, 1U Battery,1U Charger, 1U User Manual, 1U Warranty Card',\n",
       " 'Handset, Charger, Earphone, Warranty Card, User Manual',\n",
       " 'HAND SET, CHARGER AND BATTERY',\n",
       " 'Handset, Battery, Charger',\n",
       " 'Handset, Battery, Charger, User Manual',\n",
       " 'Handset, Battery, Charger, Warranty Card',\n",
       " 'Mobile, Charger, Battery, Manual']"
      ]
     },
     "execution_count": 28,
     "metadata": {},
     "output_type": "execute_result"
    }
   ],
   "source": [
    "co"
   ]
  },
  {
   "cell_type": "code",
   "execution_count": null,
   "metadata": {},
   "outputs": [],
   "source": [
    "import pandas as pd\n",
    "jobs=pd.DataFrame({})\n",
    "jobs['Product_name']=ti[0:10]\n",
    "jobs['Seller']=co[0:10]\n",
    "jobs['rating']=price_name[0:10]"
   ]
  },
  {
   "cell_type": "code",
   "execution_count": null,
   "metadata": {},
   "outputs": [],
   "source": []
  },
  {
   "cell_type": "markdown",
   "metadata": {},
   "source": [
    "# 5- Write a program to scrap geospatial coordinates (latitude, longitude) of a city searched on google maps."
   ]
  },
  {
   "cell_type": "code",
   "execution_count": 2,
   "metadata": {},
   "outputs": [
    {
     "name": "stdout",
     "output_type": "stream",
     "text": [
      "https://www.google.com/maps/place/Indore,+Madhya+Pradesh/@22.7242284,75.7237609,11z/data=!3m1!4b1!4m5!3m4!1s0x3962fcad1b410ddb:0x96ec4da356240f4!8m2!3d22.7195687!4d75.8577258\n"
     ]
    }
   ],
   "source": [
    "\n",
    "driver=webdriver.Chrome(r\"D:\\flipnwork\\chromedriver.exe \")\n",
    "url=\"https://www.google.com/maps\"\n",
    "driver.get(url)\n",
    "driver.maximize_window()\n",
    "search=[]\n",
    "map1=[]\n",
    "s=[]\n",
    "#locating the search bar\n",
    "search=driver.find_element_by_css_selector(\"#searchboxinput\")\n",
    "time.sleep(5)\n",
    "search.clear()\n",
    "search.send_keys('Indore')\n",
    "driver.find_element_by_css_selector(\"#searchbox-searchbutton\").click()\n",
    "time.sleep(5)\n",
    "print(driver.current_url)"
   ]
  },
  {
   "cell_type": "code",
   "execution_count": 5,
   "metadata": {},
   "outputs": [
    {
     "name": "stdout",
     "output_type": "stream",
     "text": [
      "URL Extraction:  https://www.google.com/maps/place/Indore,+Madhya+Pradesh/@22.7242284,75.7237609,11z/data=!3m1!4b1!4m5!3m4!1s0x3962fcad1b410ddb:0x96ec4da356240f4!8m2!3d22.7195687!4d75.8577258\n",
      "latitute= 22.7242284, longitute= 75.7237609\n"
     ]
    }
   ],
   "source": [
    "try:\n",
    "    url_string= driver.current_url\n",
    "    print(\"URL Extraction: \",url_string)\n",
    "    lat_lng=re.findall(r'@(.*)data',url_string)\n",
    "    if len(lat_lng):\n",
    "        lat_lng_list=lat_lng[0].split(\",\")\n",
    "        if len(lat_lng_list)>=2:\n",
    "            lat = lat_lng_list[0]\n",
    "            lng = lat_lng_list[1]\n",
    "            print(\"latitute= {}, longitute= {}\".format(lat, lng))\n",
    "except Exception as e:\n",
    "    print(\"error:\", str(e))\n",
    "            \n"
   ]
  },
  {
   "cell_type": "code",
   "execution_count": null,
   "metadata": {},
   "outputs": [],
   "source": []
  },
  {
   "cell_type": "code",
   "execution_count": null,
   "metadata": {},
   "outputs": [],
   "source": []
  },
  {
   "cell_type": "markdown",
   "metadata": {},
   "source": [
    "# 6. Write a program to scrap details of all the funding deals for second quarter (i.e. July 20 – September 20) from trak.in."
   ]
  },
  {
   "cell_type": "code",
   "execution_count": 83,
   "metadata": {},
   "outputs": [],
   "source": [
    "driver=webdriver.Chrome(r\"D:\\flipnwork\\chromedriver.exe \")\n",
    "url=\"https://trak.in/india-startup-funding-investment-2015/\"\n",
    "driver.get(url)\n",
    "search=[]\n",
    "#locating the search bar\n",
    "#search=driver.find_element_by_class_name(\"#menu-item-51510 > a\").click()"
   ]
  },
  {
   "cell_type": "code",
   "execution_count": null,
   "metadata": {},
   "outputs": [],
   "source": [
    "driver."
   ]
  },
  {
   "cell_type": "code",
   "execution_count": 84,
   "metadata": {},
   "outputs": [],
   "source": [
    "full=[]\n",
    "fullnum=[]"
   ]
  },
  {
   "cell_type": "code",
   "execution_count": 87,
   "metadata": {},
   "outputs": [],
   "source": [
    "for i in range(48,51):\n",
    "    full=driver.find_elements_by_id(\"tablepress-\"+str(i)+\"_wrapper\")\n",
    "    for i in full:\n",
    "        if i.text is None :\n",
    "            fullnum.append(\"--\") \n",
    "        else:\n",
    "            fullnum.append(i.text)"
   ]
  },
  {
   "cell_type": "code",
   "execution_count": 88,
   "metadata": {},
   "outputs": [
    {
     "data": {
      "text/plain": [
       "[\"Show\\n10\\n25\\n50\\n100\\nentries\\nSearch:\\nSr. No. Date (dd/mm/yyyy) Startup Name Industry / Vertical Sub-Vertical City / Location Investors' Name Investment Type Amount (In USD)\\n1 15/07/2020 Flipkart E-commerce E-commerce Bangalore Walmart Inc\\nM&A 1,200,000,000\\n2 16/07/2020 Vedantu EduTech Online Tutoring Bangalore Coatue Management Series D 100,000,000\\n3 16/07/2020 Crio EduTech Learning Platform for Developers Bangalore 021 Capital pre-Series A 934,160\\n4 14/07/2020 goDutch FinTech Group Payments Mumbai Matrix India,Y Combinator, Global Founders Capital, Soma Capital, and VentureSouq. Seed 1,700,000\\n5 13/07/2020 Mystifly\\nAirfare Marketplace Ticketing, Airline Retailing, and Post-Ticketing Services Singapore and Bangalore Recruit Co. Ltd.\\n\\npre-Series B 3,300,000\\n6 09/07/2020 JetSynthesys Gaming and Entertainment Gaming and Entertainment\\n\\nPune Adar Poonawalla and Kris Gopalakrishnan.\\nVenture-Series Unknown 400,000\\n7 10/07/2020 gigIndia\\nMarketplace Crowd Sourcing, Freelance Pune Incubate Fund India and Beyond Next Ventures pre-Series A 974,200\\n8 15/07/2020 PumPumPum Automotive Rental Used Car-leasing platform Gurgaon Early Adapters Syndicate Seed 292,800\\n9 14/07/2020 FLYX OTT Player Streaming Social Network New York and Delhi Raj Mishra, founder of AIT Global Inc pre-Seed 200,000\\n10 13/07/2020 Open Appliances Pvt. Ltd. Information Technology Internet-of-Things Security Solutions Bangalore Unicorn India Ventures Venture-Series Unknown 500,000\\nShowing 1 to 10 of 10 entries\\nPreviousNext\",\n",
       " \"Show\\n10\\n25\\n50\\n100\\nentries\\nSearch:\\nSr. No. Date (dd/mm/yyyy) Startup Name Industry / Vertical Sub-Vertical City / Location Investors' Name Investment Type Amount (In USD)\\n1 15/08/2020 Practo HealthTech Health care and Wellness Bangalore A1A Company\\nSeries F 32,000,000\\n2 13/08/2020 Medlife E-commerce Online Pharmacy Bangalore Prasid Uno Family Trust and SC Credit Fund 23,000,000\\n3 13/08/2020 HungerBox\\nFoodTech Online Food Delivery Service Bangalore One97, Sabre Partners Trust, Pratithi Investment Trust, and Srihari Kumar Series D1 1,560,000\\n4 04/08/2020 Dunzo Hyper-local Logistics Online Delivery Services Bangalore Existing Backers In Progress 30,000,000\\n5 11/08/2020 Terra.do EduTech Online Climate School, E-learning Stanford, California, Stanford Angels and Entrepreneurs (India), BEENEXT Emerging Asia, Rainmatter Capital\\n\\nSeed 1,400,000\\n6 12/08/2020 Classplus EduTech E-learning, Online Tutoring\\n\\nNoida Falcon Edge In Progress upto 15,000,000\\n7 14/08/2020 Niyo FinTech Financial Services Bangalore Niyo Solutions Inc. 6,000,000\\n8 10/08/2020 ZestMoney FinTech Financial Services Bangalore Primrose Hills Ventures 10,670,000\\n9 07/08/2020 FreshToHome E-commerce Food Delivery Bangalore Ascent Capital Venture 16,200,000\\n10 13/08/2020 Eduvanz FinTech Financial Services Mumbai Sequoia India, Unitus Series A 5,000,000\\nShowing 1 to 10 of 12 entries\\nPreviousNext\",\n",
       " \"Show\\n10\\n25\\n50\\n100\\nentries\\nSearch:\\nSr. No. Date (dd/mm/yyyy) Startup Name Industry / Vertical Sub-Vertical City / Location Investors' Name Investment Type Amount (In USD)\\n1 08/09/2020 Byju’s EduTech Online Tutoring Bangalore Silver Lake, Tiger Global, General Atlantic and Owl Ventures\\nPrivate Equity 500,000,000\\n2 12/09/2020 mCaffeine Personal Care Skincare & Haircare Mumbai Amicus Capital Private Equity I LLP, Amicus Capital Partners India Fund I and RP-SG Venture Fund 1 Series B 3,000,000\\n3 09/09/2020 Qshala EduTech Online Curiosity Platform for Kids Bangalore Rainmatter Capital Angel 370,000\\n4 02/09/2020 Winzo Online Gaming Online Gaming New Delhi Kalaari Capital Partners, IndigoEdge Management Consultancy Series B 15,500,000\\n5 09/09/2020 Hippo Video Video Customer Experience(CX) Platform Video Customer Experience(CX) Platform Newark, Delaware, United States of Amercia Alpha Wave Incubation, Exfinity Venture Partners and existing backers.\\nSeries A 4,500,000\\n6 07/09/2020 Melorra E-commerce Online Jewelry Store\\nBangalore Shadow Holdings, Lightbox. Debt Financing upto 8,900,000\\n7 07/09/2020 1mg E-commerce Online Pharmacy Gurgaon Gaja Capital, Tata Capital, Partners Group In Progress 100,000,000\\n8 31/08/2020 mfine HealthTech On-Demand Healthcare Services Bangalore Caretech Pte Inc Series B 5,400,000\\n9 31/08/2020 Apna Human Resources Recruitment Platform Bangalore Lightspeed India and Sequoia Capital India Series A 8,000,000\\n10 03/09/2020 Railofy Transportation WL & RAC protection platform Mumbai Chiratae Ventures Seed 950,000\\nShowing 1 to 10 of 11 entries\\nPreviousNext\",\n",
       " \"Show\\n10\\n25\\n50\\n100\\nentries\\nSearch:\\nSr. No. Date (dd/mm/yyyy) Startup Name Industry / Vertical Sub-Vertical City / Location Investors' Name Investment Type Amount (In USD)\\n1 15/07/2020 Flipkart E-commerce E-commerce Bangalore Walmart Inc\\nM&A 1,200,000,000\\n2 16/07/2020 Vedantu EduTech Online Tutoring Bangalore Coatue Management Series D 100,000,000\\n3 16/07/2020 Crio EduTech Learning Platform for Developers Bangalore 021 Capital pre-Series A 934,160\\n4 14/07/2020 goDutch FinTech Group Payments Mumbai Matrix India,Y Combinator, Global Founders Capital, Soma Capital, and VentureSouq. Seed 1,700,000\\n5 13/07/2020 Mystifly\\nAirfare Marketplace Ticketing, Airline Retailing, and Post-Ticketing Services Singapore and Bangalore Recruit Co. Ltd.\\n\\npre-Series B 3,300,000\\n6 09/07/2020 JetSynthesys Gaming and Entertainment Gaming and Entertainment\\n\\nPune Adar Poonawalla and Kris Gopalakrishnan.\\nVenture-Series Unknown 400,000\\n7 10/07/2020 gigIndia\\nMarketplace Crowd Sourcing, Freelance Pune Incubate Fund India and Beyond Next Ventures pre-Series A 974,200\\n8 15/07/2020 PumPumPum Automotive Rental Used Car-leasing platform Gurgaon Early Adapters Syndicate Seed 292,800\\n9 14/07/2020 FLYX OTT Player Streaming Social Network New York and Delhi Raj Mishra, founder of AIT Global Inc pre-Seed 200,000\\n10 13/07/2020 Open Appliances Pvt. Ltd. Information Technology Internet-of-Things Security Solutions Bangalore Unicorn India Ventures Venture-Series Unknown 500,000\\nShowing 1 to 10 of 10 entries\\nPreviousNext\",\n",
       " \"Show\\n10\\n25\\n50\\n100\\nentries\\nSearch:\\nSr. No. Date (dd/mm/yyyy) Startup Name Industry / Vertical Sub-Vertical City / Location Investors' Name Investment Type Amount (In USD)\\n1 15/08/2020 Practo HealthTech Health care and Wellness Bangalore A1A Company\\nSeries F 32,000,000\\n2 13/08/2020 Medlife E-commerce Online Pharmacy Bangalore Prasid Uno Family Trust and SC Credit Fund 23,000,000\\n3 13/08/2020 HungerBox\\nFoodTech Online Food Delivery Service Bangalore One97, Sabre Partners Trust, Pratithi Investment Trust, and Srihari Kumar Series D1 1,560,000\\n4 04/08/2020 Dunzo Hyper-local Logistics Online Delivery Services Bangalore Existing Backers In Progress 30,000,000\\n5 11/08/2020 Terra.do EduTech Online Climate School, E-learning Stanford, California, Stanford Angels and Entrepreneurs (India), BEENEXT Emerging Asia, Rainmatter Capital\\n\\nSeed 1,400,000\\n6 12/08/2020 Classplus EduTech E-learning, Online Tutoring\\n\\nNoida Falcon Edge In Progress upto 15,000,000\\n7 14/08/2020 Niyo FinTech Financial Services Bangalore Niyo Solutions Inc. 6,000,000\\n8 10/08/2020 ZestMoney FinTech Financial Services Bangalore Primrose Hills Ventures 10,670,000\\n9 07/08/2020 FreshToHome E-commerce Food Delivery Bangalore Ascent Capital Venture 16,200,000\\n10 13/08/2020 Eduvanz FinTech Financial Services Mumbai Sequoia India, Unitus Series A 5,000,000\\nShowing 1 to 10 of 12 entries\\nPreviousNext\",\n",
       " \"Show\\n10\\n25\\n50\\n100\\nentries\\nSearch:\\nSr. No. Date (dd/mm/yyyy) Startup Name Industry / Vertical Sub-Vertical City / Location Investors' Name Investment Type Amount (In USD)\\n1 08/09/2020 Byju’s EduTech Online Tutoring Bangalore Silver Lake, Tiger Global, General Atlantic and Owl Ventures\\nPrivate Equity 500,000,000\\n2 12/09/2020 mCaffeine Personal Care Skincare & Haircare Mumbai Amicus Capital Private Equity I LLP, Amicus Capital Partners India Fund I and RP-SG Venture Fund 1 Series B 3,000,000\\n3 09/09/2020 Qshala EduTech Online Curiosity Platform for Kids Bangalore Rainmatter Capital Angel 370,000\\n4 02/09/2020 Winzo Online Gaming Online Gaming New Delhi Kalaari Capital Partners, IndigoEdge Management Consultancy Series B 15,500,000\\n5 09/09/2020 Hippo Video Video Customer Experience(CX) Platform Video Customer Experience(CX) Platform Newark, Delaware, United States of Amercia Alpha Wave Incubation, Exfinity Venture Partners and existing backers.\\nSeries A 4,500,000\\n6 07/09/2020 Melorra E-commerce Online Jewelry Store\\nBangalore Shadow Holdings, Lightbox. Debt Financing upto 8,900,000\\n7 07/09/2020 1mg E-commerce Online Pharmacy Gurgaon Gaja Capital, Tata Capital, Partners Group In Progress 100,000,000\\n8 31/08/2020 mfine HealthTech On-Demand Healthcare Services Bangalore Caretech Pte Inc Series B 5,400,000\\n9 31/08/2020 Apna Human Resources Recruitment Platform Bangalore Lightspeed India and Sequoia Capital India Series A 8,000,000\\n10 03/09/2020 Railofy Transportation WL & RAC protection platform Mumbai Chiratae Ventures Seed 950,000\\nShowing 1 to 10 of 11 entries\\nPreviousNext\"]"
      ]
     },
     "execution_count": 88,
     "metadata": {},
     "output_type": "execute_result"
    }
   ],
   "source": [
    "fullnum"
   ]
  },
  {
   "cell_type": "markdown",
   "metadata": {},
   "source": []
  },
  {
   "cell_type": "code",
   "execution_count": null,
   "metadata": {},
   "outputs": [],
   "source": []
  },
  {
   "cell_type": "code",
   "execution_count": null,
   "metadata": {},
   "outputs": [],
   "source": []
  },
  {
   "cell_type": "code",
   "execution_count": null,
   "metadata": {},
   "outputs": [],
   "source": []
  },
  {
   "cell_type": "markdown",
   "metadata": {},
   "source": [
    "# 7. Write a program to scrap all the available details of top 10 gaming laptops from digit.in."
   ]
  },
  {
   "cell_type": "code",
   "execution_count": 208,
   "metadata": {},
   "outputs": [],
   "source": [
    "driver=webdriver.Chrome(r\"D:\\flipnwork\\chromedriver.exe \")\n",
    "url=\"https://www.digit.in./\"\n",
    "driver.get(url)\n",
    "best=[]\n",
    "best=driver.find_element_by_css_selector(\"body > div.body_sec > div > div.content_container > div.right_container > div:nth-child(4) > ul > li:nth-child(9) > a\").click()"
   ]
  },
  {
   "cell_type": "code",
   "execution_count": 215,
   "metadata": {},
   "outputs": [],
   "source": [
    "driver=webdriver.Chrome(r\"D:\\flipnwork\\chromedriver.exe \")\n",
    "driver.get('https://www.digit.in/')\n",
    "driver.get(url)"
   ]
  },
  {
   "cell_type": "code",
   "execution_count": null,
   "metadata": {},
   "outputs": [],
   "source": [
    "Best Gaming Laptops in India"
   ]
  },
  {
   "cell_type": "code",
   "execution_count": 43,
   "metadata": {},
   "outputs": [],
   "source": [
    "best=[]\n",
    "bests=[]\n",
    "best=driver.find_elements_by_css_selector(\"#summtable > tbody > tr td:nth-child(1)\")\n",
    "for i in best:\n",
    "    if i.text is None :\n",
    "        bests.append(\"--\") \n",
    "    else:\n",
    "        bests.append(i.text)"
   ]
  },
  {
   "cell_type": "code",
   "execution_count": 44,
   "metadata": {},
   "outputs": [
    {
     "data": {
      "text/plain": [
       "['MSI GT76 TITAN DT 9SG',\n",
       " 'Alienware 17 Area-51m',\n",
       " 'HP Omen 15 2020',\n",
       " 'Asus Zephyrus G14',\n",
       " 'Lenovo Legion Y540',\n",
       " 'Asus ROG Zephyrus G GA502',\n",
       " 'Asus ROG Zephyrus S GX531',\n",
       " 'MSI GT83VR 7RE Titan SLI',\n",
       " 'ASUS ROG ZEPHYRUS DUO 15',\n",
       " 'Dell G3']"
      ]
     },
     "execution_count": 44,
     "metadata": {},
     "output_type": "execute_result"
    }
   ],
   "source": [
    "bests"
   ]
  },
  {
   "cell_type": "code",
   "execution_count": null,
   "metadata": {},
   "outputs": [],
   "source": [
    "bests"
   ]
  },
  {
   "cell_type": "code",
   "execution_count": 69,
   "metadata": {},
   "outputs": [],
   "source": [
    "seller=[]\n",
    "seller_name=[]\n",
    "seller=[]\n",
    "seller_name=driver.find_elements_by_css_selector(\"#summtable > tbody > tr > td.smmerchant\")\n",
    "for i in seller_name:\n",
    "    if i.text is None :\n",
    "        seller.append(\"--\") \n",
    "    else:\n",
    "        seller.append(i.text)"
   ]
  },
  {
   "cell_type": "code",
   "execution_count": 71,
   "metadata": {},
   "outputs": [
    {
     "data": {
      "text/plain": [
       "['N/A',\n",
       " 'amazon',\n",
       " 'Tatacliq',\n",
       " 'amazon',\n",
       " 'flipkart',\n",
       " 'flipkart',\n",
       " 'amazon',\n",
       " 'N/A',\n",
       " 'amazon',\n",
       " 'amazon']"
      ]
     },
     "execution_count": 71,
     "metadata": {},
     "output_type": "execute_result"
    }
   ],
   "source": [
    "seller"
   ]
  },
  {
   "cell_type": "code",
   "execution_count": 62,
   "metadata": {},
   "outputs": [],
   "source": [
    "price=[]\n",
    "price_name=[]\n",
    "seller=[]\n",
    "price=driver.find_elements_by_css_selector(\"#summtable > tbody > tr > td.smprice\")\n",
    "for i in price:\n",
    "    if i.text is None :\n",
    "        price_name.append(\"--\") \n",
    "    else:\n",
    "        price_name.append(i.text)"
   ]
  },
  {
   "cell_type": "code",
   "execution_count": 63,
   "metadata": {},
   "outputs": [
    {
     "data": {
      "text/plain": [
       "['₹379990',\n",
       " '₹489909',\n",
       " '₹117790',\n",
       " '₹164990',\n",
       " '₹79990',\n",
       " '₹79990',\n",
       " '₹146000',\n",
       " '₹349990',\n",
       " '₹269975',\n",
       " '₹61990']"
      ]
     },
     "execution_count": 63,
     "metadata": {},
     "output_type": "execute_result"
    }
   ],
   "source": [
    "price_name"
   ]
  },
  {
   "cell_type": "code",
   "execution_count": 74,
   "metadata": {},
   "outputs": [],
   "source": [
    "import pandas as pd\n",
    "jobs=pd.DataFrame({})\n",
    "jobs['Product_name']=bests[0:10]\n",
    "jobs['Seller']=seller[0:10]\n",
    "jobs['rating']=price_name[0:10]"
   ]
  },
  {
   "cell_type": "code",
   "execution_count": 75,
   "metadata": {},
   "outputs": [
    {
     "data": {
      "text/html": [
       "<div>\n",
       "<style scoped>\n",
       "    .dataframe tbody tr th:only-of-type {\n",
       "        vertical-align: middle;\n",
       "    }\n",
       "\n",
       "    .dataframe tbody tr th {\n",
       "        vertical-align: top;\n",
       "    }\n",
       "\n",
       "    .dataframe thead th {\n",
       "        text-align: right;\n",
       "    }\n",
       "</style>\n",
       "<table border=\"1\" class=\"dataframe\">\n",
       "  <thead>\n",
       "    <tr style=\"text-align: right;\">\n",
       "      <th></th>\n",
       "      <th>Product_name</th>\n",
       "      <th>Seller</th>\n",
       "      <th>rating</th>\n",
       "    </tr>\n",
       "  </thead>\n",
       "  <tbody>\n",
       "    <tr>\n",
       "      <th>0</th>\n",
       "      <td>MSI GT76 TITAN DT 9SG</td>\n",
       "      <td>N/A</td>\n",
       "      <td>₹379990</td>\n",
       "    </tr>\n",
       "    <tr>\n",
       "      <th>1</th>\n",
       "      <td>Alienware 17 Area-51m</td>\n",
       "      <td>amazon</td>\n",
       "      <td>₹489909</td>\n",
       "    </tr>\n",
       "    <tr>\n",
       "      <th>2</th>\n",
       "      <td>HP Omen 15 2020</td>\n",
       "      <td>Tatacliq</td>\n",
       "      <td>₹117790</td>\n",
       "    </tr>\n",
       "    <tr>\n",
       "      <th>3</th>\n",
       "      <td>Asus Zephyrus G14</td>\n",
       "      <td>amazon</td>\n",
       "      <td>₹164990</td>\n",
       "    </tr>\n",
       "    <tr>\n",
       "      <th>4</th>\n",
       "      <td>Lenovo Legion Y540</td>\n",
       "      <td>flipkart</td>\n",
       "      <td>₹79990</td>\n",
       "    </tr>\n",
       "    <tr>\n",
       "      <th>5</th>\n",
       "      <td>Asus ROG Zephyrus G GA502</td>\n",
       "      <td>flipkart</td>\n",
       "      <td>₹79990</td>\n",
       "    </tr>\n",
       "    <tr>\n",
       "      <th>6</th>\n",
       "      <td>Asus ROG Zephyrus S GX531</td>\n",
       "      <td>amazon</td>\n",
       "      <td>₹146000</td>\n",
       "    </tr>\n",
       "    <tr>\n",
       "      <th>7</th>\n",
       "      <td>MSI GT83VR 7RE Titan SLI</td>\n",
       "      <td>N/A</td>\n",
       "      <td>₹349990</td>\n",
       "    </tr>\n",
       "    <tr>\n",
       "      <th>8</th>\n",
       "      <td>ASUS ROG ZEPHYRUS DUO 15</td>\n",
       "      <td>amazon</td>\n",
       "      <td>₹269975</td>\n",
       "    </tr>\n",
       "    <tr>\n",
       "      <th>9</th>\n",
       "      <td>Dell G3</td>\n",
       "      <td>amazon</td>\n",
       "      <td>₹61990</td>\n",
       "    </tr>\n",
       "  </tbody>\n",
       "</table>\n",
       "</div>"
      ],
      "text/plain": [
       "                Product_name    Seller   rating\n",
       "0      MSI GT76 TITAN DT 9SG       N/A  ₹379990\n",
       "1      Alienware 17 Area-51m    amazon  ₹489909\n",
       "2            HP Omen 15 2020  Tatacliq  ₹117790\n",
       "3          Asus Zephyrus G14    amazon  ₹164990\n",
       "4         Lenovo Legion Y540  flipkart   ₹79990\n",
       "5  Asus ROG Zephyrus G GA502  flipkart   ₹79990\n",
       "6  Asus ROG Zephyrus S GX531    amazon  ₹146000\n",
       "7   MSI GT83VR 7RE Titan SLI       N/A  ₹349990\n",
       "8   ASUS ROG ZEPHYRUS DUO 15    amazon  ₹269975\n",
       "9                    Dell G3    amazon   ₹61990"
      ]
     },
     "execution_count": 75,
     "metadata": {},
     "output_type": "execute_result"
    }
   ],
   "source": [
    "jobs"
   ]
  },
  {
   "cell_type": "code",
   "execution_count": null,
   "metadata": {},
   "outputs": [],
   "source": []
  }
 ],
 "metadata": {
  "kernelspec": {
   "display_name": "Python 3",
   "language": "python",
   "name": "python3"
  },
  "language_info": {
   "codemirror_mode": {
    "name": "ipython",
    "version": 3
   },
   "file_extension": ".py",
   "mimetype": "text/x-python",
   "name": "python",
   "nbconvert_exporter": "python",
   "pygments_lexer": "ipython3",
   "version": "3.8.3"
  }
 },
 "nbformat": 4,
 "nbformat_minor": 4
}
