{
 "cells": [
  {
   "cell_type": "code",
   "execution_count": null,
   "metadata": {},
   "outputs": [],
   "source": []
  },
  {
   "cell_type": "code",
   "execution_count": null,
   "metadata": {},
   "outputs": [],
   "source": [
    "# Q10: Go to webpage https://www.amazon.in/\n",
    "Enter “Laptop” in the search field and then click the search icon.\n",
    "Then set CPU Type filter to “Intel Core i7” and “Intel Core i9” as shown in the below image:\n",
    "After setting the filters scrape first 10 laptops data. You have to scrape 3 attributes for each laptop:\n",
    "1. title\n",
    "2. Ratings\n",
    "3. Price\n",
    "As shown in the below image as the tick marked attributes."
   ]
  },
  {
   "cell_type": "code",
   "execution_count": null,
   "metadata": {},
   "outputs": [],
   "source": [
    "# Importing Libraries\n",
    "import pandas as pd\n",
    "from bs4 import BeautifulSoup\n",
    "import requests\n",
    "import selenium\n",
    "from selenium import webdriver\n",
    "import time\n",
    "from selenium import webdriver\n",
    "from selenium.webdriver.common.keys import Keys\n",
    "import selenium\n",
    "import pandas as pd\n",
    "from selenium.webdriver.common.by import By\n",
    "from selenium import webdriver\n",
    "import time #using time.sleep functions\n",
    "from selenium.webdriver.common.by import By\n",
    "from selenium.webdriver.support.ui import WebDriverWait\n",
    "from selenium.webdriver.support import expected_conditions as EC\n",
    "import re"
   ]
  },
  {
   "cell_type": "code",
   "execution_count": null,
   "metadata": {},
   "outputs": [],
   "source": [
    "# Function Definition\n",
    "def checkElement(ele):\n",
    "    return ele != \"\" and \\\n",
    "    ele!='Sponsored' and \\\n",
    "    ele!='You are seeing this ad based on the product’s relevance to your search query.' \\\n",
    "    and ele!='Let us know' \\\n",
    "    and ele!= 'Best seller'\\\n",
    "    and ele!= 'in Laptops'\n",
    "def data_sci(url):\n",
    "    driver=webdriver.Chrome(r\"D:\\flipnwork\\chromedriver.exe \")\n",
    "    driver.get(url)\n",
    "    start_page=0\n",
    "    end_page=0\n",
    "    urls=[]\n",
    "    product_title=[]\n",
    "    prices=[]\n",
    "    rating=[]\n",
    "    driver.maximize_window()\n",
    "    time.sleep(10)\n",
    "    ele41=driver.find_element(By.ID,\"twotabsearchtextbox\")\n",
    "    ele41.send_keys(\"Laptop\")\n",
    "    ele4=driver.find_element(By.ID,\"nav-search-submit-button\").click()\n",
    "    time.sleep(5)\n",
    "    for page in range(start_page,end_page+1):\n",
    "        soup = BeautifulSoup(driver.page_source, 'html.parser')\n",
    "        products=soup.find_all('div', attrs ={'data-component-type':'s-search-result'})\n",
    "        for ind in range(0,9):\n",
    "            l=products[ind].text.split('\\n')\n",
    "            without_empty_strings = list(filter(lambda x: checkElement(x) ,l))\n",
    "            product_title.append(without_empty_strings[0])\n",
    "            rating.append(list(filter(lambda x: re.search(\"^.*out of.*stars.*$\",x),without_empty_strings))[0])\n",
    "            price=list(filter(lambda x: re.search(\"^₹.*₹.*$\",x),without_empty_strings))\n",
    "            prices.append(price[0])\n",
    "            print(price[0])\n",
    "        job_df=pd.DataFrame({'product_title':product_title,\n",
    "                         'rating':rating,\n",
    "                         'prices':prices,})\n",
    "        print(job_df)\n",
    "# Calling Function\n",
    "data_sci(\"https://www.amazon.in\")"
   ]
  }
 ],
 "metadata": {
  "kernelspec": {
   "display_name": "Python 3",
   "language": "python",
   "name": "python3"
  },
  "language_info": {
   "codemirror_mode": {
    "name": "ipython",
    "version": 3
   },
   "file_extension": ".py",
   "mimetype": "text/x-python",
   "name": "python",
   "nbconvert_exporter": "python",
   "pygments_lexer": "ipython3",
   "version": "3.8.3"
  }
 },
 "nbformat": 4,
 "nbformat_minor": 4
}
