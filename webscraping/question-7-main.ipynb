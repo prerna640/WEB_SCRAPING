{
 "cells": [
  {
   "cell_type": "code",
   "execution_count": 1,
   "metadata": {},
   "outputs": [],
   "source": [
    "#import all the library\n",
    "import selenium\n",
    "import pandas as pd\n",
    "from selenium import webdriver\n",
    "import time"
   ]
  },
  {
   "cell_type": "code",
   "execution_count": 2,
   "metadata": {},
   "outputs": [],
   "source": [
    "#create webdriver object\n",
    "driver=webdriver.Chrome(r\"D:\\flipnwork\\chromedriver.exe\")"
   ]
  },
  {
   "cell_type": "code",
   "execution_count": 3,
   "metadata": {},
   "outputs": [],
   "source": [
    "#get link\n",
    "url=\"https://www.amazon.in/s?k=mobile+under+20000&ref=nb_sb_noss_1\""
   ]
  },
  {
   "cell_type": "code",
   "execution_count": 4,
   "metadata": {},
   "outputs": [],
   "source": [
    "\n",
    "driver.get(url)"
   ]
  },
  {
   "cell_type": "code",
   "execution_count": 5,
   "metadata": {},
   "outputs": [
    {
     "name": "stdout",
     "output_type": "stream",
     "text": [
      "Enter number of pages to be retained3\n"
     ]
    }
   ],
   "source": [
    "# enter number of pages to search how many pages information to insert\n",
    "\n",
    "n=int(input(\"Enter number of pages to be retained\"))\n"
   ]
  },
  {
   "cell_type": "code",
   "execution_count": 6,
   "metadata": {},
   "outputs": [],
   "source": [
    "# creating the list\n",
    "image_url=[]\n",
    "Average_rating=[]\n",
    "rate=[]\n",
    "images=[]\n",
    "rating=[]\n",
    "pricerange=[]\n",
    "price=[]\n",
    "Product_name=[]\n",
    "product=[]\n",
    "imagesColab=[]\n"
   ]
  },
  {
   "cell_type": "code",
   "execution_count": 7,
   "metadata": {},
   "outputs": [],
   "source": [
    "# i had created forloop \n",
    "for i in range(n):\n",
    "    try:\n",
    "        driver.find_element_by_css_selector(\"#search > div.s-desktop-width-max.s-desktop-content.sg-row > div.sg-col-16-of-20.sg-col.sg-col-8-of-12.sg-col-12-of-16 > div > span:nth-child(4) > div.s-main-slot.s-result-list.s-search-results.sg-row > div:nth-child(5) > div\")\n",
    "        driver.execute_script('document.querySelector(\"#search > div.s-desktop-width-max.s-desktop-content.sg-row > div.sg-col-16-of-20.sg-col.sg-col-8-of-12.sg-col-12-of-16 > div > span:nth-child(4) > div.s-main-slot.s-result-list.s-search-results.sg-row > div:nth-child(5)\").innerHTML=\"\"')\n",
    "    except:\n",
    "        \"\"\n",
    "    product=driver.find_elements_by_css_selector(\"#search > div.s-desktop-width-max.s-desktop-content.sg-row > div.sg-col-16-of-20.sg-col.sg-col-8-of-12.sg-col-12-of-16 > div > span:nth-child(4) > div.s-main-slot.s-result-list.s-search-results.sg-row > div > div > span > div > div > div:nth-child(2) > div.sg-col-4-of-12.sg-col-8-of-16.sg-col-12-of-20.sg-col > div > div:nth-child(1) > div > div > div:nth-child(1) > h2 > a > span\")\n",
    "    Product_name.append(list(map(lambda x:x.text, product)))\n",
    "    pricerange=driver.find_elements_by_css_selector(\"#search > div.s-desktop-width-max.s-desktop-content.sg-row > div.sg-col-16-of-20.sg-col.sg-col-8-of-12.sg-col-12-of-16 > div > span:nth-child(4) > div.s-main-slot.s-result-list.s-search-results.sg-row > div > div > span > div > div > div:nth-child(2) > div.sg-col-4-of-12.sg-col-8-of-16.sg-col-12-of-20.sg-col > div > div:nth-child(2) > div.sg-col-4-of-12.sg-col-4-of-16.sg-col.sg-col-4-of-20 > div > div.a-section.a-spacing-none.a-spacing-top-small > div.a-row.a-size-base.a-color-base > div > div > a > span:nth-child(1) > span:nth-child(2) > span.a-price-whole\")\n",
    "    price.append(list(map(lambda x:x.text,pricerange)))\n",
    "    rate=driver.find_elements_by_css_selector(\"#search > div.s-desktop-width-max.s-desktop-content.sg-row > div.sg-col-16-of-20.sg-col.sg-col-8-of-12.sg-col-12-of-16 > div > span:nth-child(4) > div.s-main-slot.s-result-list.s-search-results.sg-row > div > div > span > div > div > div:nth-child(2) > div.sg-col-4-of-12.sg-col-8-of-16.sg-col-12-of-20.sg-col > div > div:nth-child(1) > div > div > div.a-section.a-spacing-none.a-spacing-top-micro > div > span:nth-child(2) > a > span\")\n",
    "    rating.append(list(map(lambda x:x.text,rate)))\n",
    "    images=driver.find_elements_by_css_selector(\"#search > div.s-desktop-width-max.s-desktop-content.sg-row > div.sg-col-16-of-20.sg-col.sg-col-8-of-12.sg-col-12-of-16 > div > span:nth-child(4) > div.s-main-slot.s-result-list.s-search-results.sg-row > div > div > span > div > div > div:nth-child(2) > div.sg-col-4-of-12.sg-col-4-of-16.sg-col.sg-col-4-of-20 > div > div > span > a > div > img\")\n",
    "    imagesColab.append(list(map(lambda x:x.get_attribute(\"src\"),images)))\n",
    "    driver.find_element_by_css_selector(\"#search > div.s-desktop-width-max.s-desktop-content.sg-row > div.sg-col-16-of-20.sg-col.sg-col-8-of-12.sg-col-12-of-16 > div > span:nth-child(4) > div.s-main-slot.s-result-list.s-search-results.sg-row > div > span > div > div > ul > li.a-last\").click()\n",
    "    time.sleep(10)"
   ]
  },
  {
   "cell_type": "code",
   "execution_count": 8,
   "metadata": {},
   "outputs": [
    {
     "name": "stdout",
     "output_type": "stream",
     "text": [
      "15\n",
      "15\n",
      "15\n",
      "15\n"
     ]
    }
   ],
   "source": [
    "print(len(price[0]))\n",
    "print(len(Product_name[0]))\n",
    "print(len(rating[0]))\n",
    "print(len(imagesColab[0]))"
   ]
  },
  {
   "cell_type": "code",
   "execution_count": 9,
   "metadata": {},
   "outputs": [
    {
     "data": {
      "text/plain": [
       "[['Samsung Galaxy M31 (Ocean Blue, 6GB RAM, 128GB Storage)',\n",
       "  'Redmi 9 (Sky Blue, 4GB RAM, 64GB Storage)',\n",
       "  'Samsung Galaxy M01 Core (Black, 2GB RAM, 32GB Storage) with No Cost EMI/Additional Exchange Offers',\n",
       "  'Samsung Galaxy M21 (Midnight Blue, 4GB RAM, 64GB Storage)',\n",
       "  'Redmi Note 9 Pro (Interstellar Black, 4GB RAM, 64GB Storage)- Latest 8nm Snapdragon 720G & Alexa Hands-Free | Upto 6 Months No Cost EMI',\n",
       "  'Samsung Galaxy M31 Prime Edition (Space Black, 6GB RAM, 128GB Storage)',\n",
       "  'Samsung Galaxy M01 (Blue, 3GB RAM, 32GB Storage) with No Cost EMI/Additional Exchange Offers',\n",
       "  'Redmi Note 9 (Pebble Grey, 4GB RAM 64GB Storage) - 48MP Quad Camera & Full HD+ Display',\n",
       "  'Redmi 9A (Nature Green, 2GB Ram, 32GB Storage)',\n",
       "  'Redmi 9A (Midnight Black, 3GB Ram, 32GB Storage)',\n",
       "  'Redmi 8A Dual (Sky White, 3GB RAM, 64GB Storage) – Dual Cameras & 5,000 mAH Battery',\n",
       "  'Samsung Galaxy M31s (Mirage Blue, 6GB RAM, 128GB Storage)',\n",
       "  'Redmi 9A (Sea Blue, 2GB Ram, 32GB Storage)',\n",
       "  'Redmi 8A Dual (Sea Blue, 3GB RAM, 32GB Storage) – Dual Cameras & 5,000 mAH Battery',\n",
       "  'Samsung Galaxy M01 Core (Blue, 2GB RAM, 32GB Storage) with No Cost EMI/Additional Exchange Offers'],\n",
       " ['Samsung Galaxy M01 Core (Black, 1GB RAM, 16GB Storage) with No Cost EMI/Additional Exchange Offers',\n",
       "  'Samsung Galaxy M31s (Mirage Blue, 6GB RAM, 128GB Storage)',\n",
       "  'Tecno Spark 6 Air (Ocean Blue, 3GB RAM, 64GB Storage)',\n",
       "  'Redmi Note 9 Pro (Glacier White, 4GB RAM, 64GB Storage) - Latest 8nm Snapdragon 720G & Alexa Hands-Free | Upto 6 Months No Cost EMI',\n",
       "  'Samsung Galaxy M21 (Raven Black, 4GB RAM, 64GB Storage)',\n",
       "  'Samsung Galaxy M31 (Space Black, 6GB RAM, 128GB Storage)',\n",
       "  'OPPO A5S (Black, 3GB RAM, 32GB Storage) With No Cost EMI/Additional Exchange Offers',\n",
       "  'Redmi 9 (Sky Blue, 4GB RAM, 128GB Storage)',\n",
       "  'Redmi 9 Prime (Sunrise Flare, 4GB RAM, 64GB Storage)- Full HD+ Display & AI Quad Camera',\n",
       "  'Samsung Galaxy M01 Core (Blue, 1GB RAM, 16GB Storage) with No Cost EMI/Additional Exchange Offers',\n",
       "  'Samsung Galaxy M01s (Blue, 3GB RAM, 32GB Storage) with No Cost EMI/Additional Exchange Offers',\n",
       "  'Redmi 9 Prime (Matte Black, 4GB RAM, 64GB Storage) - Full HD+ Display & AI Quad Camera',\n",
       "  'Vivo Y12s (Glacier Blue, 3GB, 32GB) with No Cost EMI/Additional Exchange Offers',\n",
       "  'Redmi Note 9 (Aqua Green, 4GB RAM, 64GB Storage) - 48MP Quad Camera & Full HD+ Display',\n",
       "  'Samsung Galaxy M21 (Midnight Blue, 6GB RAM, 128GB Storage)'],\n",
       " ['Samsung Galaxy M11 (Metallic Blue, 3GB RAM, 32GB Storage) with No Cost EMI/Additional Exchange Offers',\n",
       "  'I KALL K260 Smartphone (5.5 Inch, 2GB, 16GB) (Purple)',\n",
       "  'Vivo Y91i (Ocean Blue, 2GB RAM, 32GB Storage) with No Cost EMI/Additional Exchange Offers',\n",
       "  'Samsung Galaxy M01 Core (Red, 2GB RAM, 32GB Storage) with No Cost EMI/Additional Exchange Offers',\n",
       "  'Redmi Note 9 (Arctic White, 6GB RAM 128GB Storage) - 48MP Quad Camera & Full HD+ Display',\n",
       "  'Redmi 9 Prime (Space Blue, 4GB RAM, 64GB Storage)- Full HD+ Display & AI Quad Camera',\n",
       "  'Vivo Y91i (Ocean Blue, 3GB RAM, 32GB Storage) with No Cost EMI/Additional Exchange Offers',\n",
       "  'Redmi Note 9 Pro (Aurora Blue, 4GB RAM, 64GB Storage) - Latest 8nm Snapdragon 720G & Alexa Hands-Free | Upto 6 Months No Cost EMI',\n",
       "  'Redmi Note 9 Pro (Interstellar Black, 4GB RAM, 128GB Storage) - Latest 8nm Snapdragon 720G & Alexa Hands-Free | Upto 6 Months No Cost EMI | Extra Upto INR 1000 Off on Exchange',\n",
       "  'Redmi Note 9 Pro (Champagne Gold, 4GB RAM, 128GB Storage) - Latest 8nm Snapdragon 720G & Alexa Hands-Free | Upto 6 Months No Cost EMI | Extra Upto INR 1000 Off on Exchange',\n",
       "  'Redmi Note 9 (Arctic White, 4GB RAM, 64GB Storage) - 48MP Quad Camera & Full HD+ Display',\n",
       "  'Redmi Note 9 Pro Max (Glacier White, 6GB RAM, 64GB Storage) - 64MP Quad Camera & Latest 8nm Snapdragon 720G & Alexa Hands-Free | Upto 12 Months No Cost EMI',\n",
       "  'Vivo U10 (Thunder Black,5000 mAH 18W Fast Charge Battery, 3GB RAM, 32GB Storage)',\n",
       "  'I KALL K4+ Smartphone (4GB, 64GB) (Green)',\n",
       "  'I KALL K4+ Smartphone (4GB, 64GB) (Blue)']]"
      ]
     },
     "execution_count": 9,
     "metadata": {},
     "output_type": "execute_result"
    }
   ],
   "source": [
    "Product_name"
   ]
  },
  {
   "cell_type": "code",
   "execution_count": 10,
   "metadata": {},
   "outputs": [
    {
     "data": {
      "text/plain": [
       "['Samsung Galaxy M31 (Ocean Blue, 6GB RAM, 128GB Storage)',\n",
       " 'Redmi 9 (Sky Blue, 4GB RAM, 64GB Storage)',\n",
       " 'Samsung Galaxy M01 Core (Black, 2GB RAM, 32GB Storage) with No Cost EMI/Additional Exchange Offers',\n",
       " 'Samsung Galaxy M21 (Midnight Blue, 4GB RAM, 64GB Storage)',\n",
       " 'Redmi Note 9 Pro (Interstellar Black, 4GB RAM, 64GB Storage)- Latest 8nm Snapdragon 720G & Alexa Hands-Free | Upto 6 Months No Cost EMI',\n",
       " 'Samsung Galaxy M31 Prime Edition (Space Black, 6GB RAM, 128GB Storage)',\n",
       " 'Samsung Galaxy M01 (Blue, 3GB RAM, 32GB Storage) with No Cost EMI/Additional Exchange Offers',\n",
       " 'Redmi Note 9 (Pebble Grey, 4GB RAM 64GB Storage) - 48MP Quad Camera & Full HD+ Display',\n",
       " 'Redmi 9A (Nature Green, 2GB Ram, 32GB Storage)',\n",
       " 'Redmi 9A (Midnight Black, 3GB Ram, 32GB Storage)',\n",
       " 'Redmi 8A Dual (Sky White, 3GB RAM, 64GB Storage) – Dual Cameras & 5,000 mAH Battery',\n",
       " 'Samsung Galaxy M31s (Mirage Blue, 6GB RAM, 128GB Storage)',\n",
       " 'Redmi 9A (Sea Blue, 2GB Ram, 32GB Storage)',\n",
       " 'Redmi 8A Dual (Sea Blue, 3GB RAM, 32GB Storage) – Dual Cameras & 5,000 mAH Battery',\n",
       " 'Samsung Galaxy M01 Core (Blue, 2GB RAM, 32GB Storage) with No Cost EMI/Additional Exchange Offers',\n",
       " 'Samsung Galaxy M01 Core (Black, 1GB RAM, 16GB Storage) with No Cost EMI/Additional Exchange Offers',\n",
       " 'Samsung Galaxy M31s (Mirage Blue, 6GB RAM, 128GB Storage)',\n",
       " 'Tecno Spark 6 Air (Ocean Blue, 3GB RAM, 64GB Storage)',\n",
       " 'Redmi Note 9 Pro (Glacier White, 4GB RAM, 64GB Storage) - Latest 8nm Snapdragon 720G & Alexa Hands-Free | Upto 6 Months No Cost EMI',\n",
       " 'Samsung Galaxy M21 (Raven Black, 4GB RAM, 64GB Storage)',\n",
       " 'Samsung Galaxy M31 (Space Black, 6GB RAM, 128GB Storage)',\n",
       " 'OPPO A5S (Black, 3GB RAM, 32GB Storage) With No Cost EMI/Additional Exchange Offers',\n",
       " 'Redmi 9 (Sky Blue, 4GB RAM, 128GB Storage)',\n",
       " 'Redmi 9 Prime (Sunrise Flare, 4GB RAM, 64GB Storage)- Full HD+ Display & AI Quad Camera',\n",
       " 'Samsung Galaxy M01 Core (Blue, 1GB RAM, 16GB Storage) with No Cost EMI/Additional Exchange Offers',\n",
       " 'Samsung Galaxy M01s (Blue, 3GB RAM, 32GB Storage) with No Cost EMI/Additional Exchange Offers',\n",
       " 'Redmi 9 Prime (Matte Black, 4GB RAM, 64GB Storage) - Full HD+ Display & AI Quad Camera',\n",
       " 'Vivo Y12s (Glacier Blue, 3GB, 32GB) with No Cost EMI/Additional Exchange Offers',\n",
       " 'Redmi Note 9 (Aqua Green, 4GB RAM, 64GB Storage) - 48MP Quad Camera & Full HD+ Display',\n",
       " 'Samsung Galaxy M21 (Midnight Blue, 6GB RAM, 128GB Storage)',\n",
       " 'Samsung Galaxy M11 (Metallic Blue, 3GB RAM, 32GB Storage) with No Cost EMI/Additional Exchange Offers',\n",
       " 'I KALL K260 Smartphone (5.5 Inch, 2GB, 16GB) (Purple)',\n",
       " 'Vivo Y91i (Ocean Blue, 2GB RAM, 32GB Storage) with No Cost EMI/Additional Exchange Offers',\n",
       " 'Samsung Galaxy M01 Core (Red, 2GB RAM, 32GB Storage) with No Cost EMI/Additional Exchange Offers',\n",
       " 'Redmi Note 9 (Arctic White, 6GB RAM 128GB Storage) - 48MP Quad Camera & Full HD+ Display',\n",
       " 'Redmi 9 Prime (Space Blue, 4GB RAM, 64GB Storage)- Full HD+ Display & AI Quad Camera',\n",
       " 'Vivo Y91i (Ocean Blue, 3GB RAM, 32GB Storage) with No Cost EMI/Additional Exchange Offers',\n",
       " 'Redmi Note 9 Pro (Aurora Blue, 4GB RAM, 64GB Storage) - Latest 8nm Snapdragon 720G & Alexa Hands-Free | Upto 6 Months No Cost EMI',\n",
       " 'Redmi Note 9 Pro (Interstellar Black, 4GB RAM, 128GB Storage) - Latest 8nm Snapdragon 720G & Alexa Hands-Free | Upto 6 Months No Cost EMI | Extra Upto INR 1000 Off on Exchange',\n",
       " 'Redmi Note 9 Pro (Champagne Gold, 4GB RAM, 128GB Storage) - Latest 8nm Snapdragon 720G & Alexa Hands-Free | Upto 6 Months No Cost EMI | Extra Upto INR 1000 Off on Exchange',\n",
       " 'Redmi Note 9 (Arctic White, 4GB RAM, 64GB Storage) - 48MP Quad Camera & Full HD+ Display',\n",
       " 'Redmi Note 9 Pro Max (Glacier White, 6GB RAM, 64GB Storage) - 64MP Quad Camera & Latest 8nm Snapdragon 720G & Alexa Hands-Free | Upto 12 Months No Cost EMI',\n",
       " 'Vivo U10 (Thunder Black,5000 mAH 18W Fast Charge Battery, 3GB RAM, 32GB Storage)',\n",
       " 'I KALL K4+ Smartphone (4GB, 64GB) (Green)',\n",
       " 'I KALL K4+ Smartphone (4GB, 64GB) (Blue)']"
      ]
     },
     "execution_count": 10,
     "metadata": {},
     "output_type": "execute_result"
    }
   ],
   "source": [
    "Product_name\n",
    "flatten_matrix1 = [val for sublist in Product_name for val in sublist] \n",
    "flatten_matrix1"
   ]
  },
  {
   "cell_type": "code",
   "execution_count": null,
   "metadata": {},
   "outputs": [],
   "source": []
  },
  {
   "cell_type": "code",
   "execution_count": 11,
   "metadata": {},
   "outputs": [
    {
     "data": {
      "text/plain": [
       "['16,499',\n",
       " '8,999',\n",
       " '5,999',\n",
       " '13,999',\n",
       " '12,999',\n",
       " '16,499',\n",
       " '7,499',\n",
       " '11,999',\n",
       " '6,999',\n",
       " '7,499',\n",
       " '7,999',\n",
       " '19,499',\n",
       " '6,999',\n",
       " '7,999',\n",
       " '5,999',\n",
       " '4,999',\n",
       " '19,499',\n",
       " '8,699',\n",
       " '12,999',\n",
       " '13,999',\n",
       " '16,499',\n",
       " '8,990',\n",
       " '9,999',\n",
       " '9,999',\n",
       " '4,999',\n",
       " '8,999',\n",
       " '9,999',\n",
       " '9,990',\n",
       " '11,999',\n",
       " '15,999',\n",
       " '9,999',\n",
       " '4,399',\n",
       " '7,990',\n",
       " '5,999',\n",
       " '14,499',\n",
       " '9,999',\n",
       " '8,490',\n",
       " '12,999',\n",
       " '14,499',\n",
       " '14,499',\n",
       " '11,999',\n",
       " '15,999',\n",
       " '9,990',\n",
       " '5,399',\n",
       " '5,399']"
      ]
     },
     "execution_count": 11,
     "metadata": {},
     "output_type": "execute_result"
    }
   ],
   "source": [
    "price\n",
    "flatten_matrix2 = [val for sublist in price for val in sublist] \n",
    "flatten_matrix2"
   ]
  },
  {
   "cell_type": "code",
   "execution_count": 12,
   "metadata": {},
   "outputs": [
    {
     "data": {
      "text/plain": [
       "['125,282',\n",
       " '9,094',\n",
       " '7,722',\n",
       " '84,433',\n",
       " '28,720',\n",
       " '125,282',\n",
       " '8,787',\n",
       " '24,172',\n",
       " '11,268',\n",
       " '11,268',\n",
       " '33,233',\n",
       " '38,702',\n",
       " '11,268',\n",
       " '33,233',\n",
       " '7,722',\n",
       " '7,722',\n",
       " '38,702',\n",
       " '1,043',\n",
       " '28,720',\n",
       " '84,433',\n",
       " '125,282',\n",
       " '3,752',\n",
       " '9,094',\n",
       " '11,866',\n",
       " '7,722',\n",
       " '1,033',\n",
       " '11,866',\n",
       " '1',\n",
       " '24,172',\n",
       " '84,433',\n",
       " '3,282',\n",
       " '2,620',\n",
       " '7,722',\n",
       " '24,172',\n",
       " '11,866',\n",
       " '639',\n",
       " '28,720',\n",
       " '28,720',\n",
       " '28,720',\n",
       " '24,172',\n",
       " '26,149',\n",
       " '31,281']"
      ]
     },
     "execution_count": 12,
     "metadata": {},
     "output_type": "execute_result"
    }
   ],
   "source": [
    "rating\n",
    "flatten_matrix3 = [val for sublist in rating for val in sublist] \n",
    "flatten_matrix3"
   ]
  },
  {
   "cell_type": "code",
   "execution_count": 13,
   "metadata": {},
   "outputs": [
    {
     "name": "stdout",
     "output_type": "stream",
     "text": [
      "45 45 42\n"
     ]
    }
   ],
   "source": [
    "print(len(flatten_matrix1),len(flatten_matrix2),len(flatten_matrix3))"
   ]
  },
  {
   "cell_type": "code",
   "execution_count": 14,
   "metadata": {},
   "outputs": [],
   "source": [
    "import pandas as pd\n",
    "jobs=pd.DataFrame({})\n",
    "jobs['Product_name']=flatten_matrix1[0:10]\n",
    "jobs['price']=flatten_matrix2[0:10]\n",
    "jobs['rating']=flatten_matrix3[0:10]"
   ]
  },
  {
   "cell_type": "code",
   "execution_count": 15,
   "metadata": {},
   "outputs": [
    {
     "data": {
      "text/html": [
       "<div>\n",
       "<style scoped>\n",
       "    .dataframe tbody tr th:only-of-type {\n",
       "        vertical-align: middle;\n",
       "    }\n",
       "\n",
       "    .dataframe tbody tr th {\n",
       "        vertical-align: top;\n",
       "    }\n",
       "\n",
       "    .dataframe thead th {\n",
       "        text-align: right;\n",
       "    }\n",
       "</style>\n",
       "<table border=\"1\" class=\"dataframe\">\n",
       "  <thead>\n",
       "    <tr style=\"text-align: right;\">\n",
       "      <th></th>\n",
       "      <th>Product_name</th>\n",
       "      <th>price</th>\n",
       "      <th>rating</th>\n",
       "    </tr>\n",
       "  </thead>\n",
       "  <tbody>\n",
       "    <tr>\n",
       "      <th>0</th>\n",
       "      <td>Samsung Galaxy M31 (Ocean Blue, 6GB RAM, 128GB...</td>\n",
       "      <td>16,499</td>\n",
       "      <td>125,282</td>\n",
       "    </tr>\n",
       "    <tr>\n",
       "      <th>1</th>\n",
       "      <td>Redmi 9 (Sky Blue, 4GB RAM, 64GB Storage)</td>\n",
       "      <td>8,999</td>\n",
       "      <td>9,094</td>\n",
       "    </tr>\n",
       "    <tr>\n",
       "      <th>2</th>\n",
       "      <td>Samsung Galaxy M01 Core (Black, 2GB RAM, 32GB ...</td>\n",
       "      <td>5,999</td>\n",
       "      <td>7,722</td>\n",
       "    </tr>\n",
       "    <tr>\n",
       "      <th>3</th>\n",
       "      <td>Samsung Galaxy M21 (Midnight Blue, 4GB RAM, 64...</td>\n",
       "      <td>13,999</td>\n",
       "      <td>84,433</td>\n",
       "    </tr>\n",
       "    <tr>\n",
       "      <th>4</th>\n",
       "      <td>Redmi Note 9 Pro (Interstellar Black, 4GB RAM,...</td>\n",
       "      <td>12,999</td>\n",
       "      <td>28,720</td>\n",
       "    </tr>\n",
       "    <tr>\n",
       "      <th>5</th>\n",
       "      <td>Samsung Galaxy M31 Prime Edition (Space Black,...</td>\n",
       "      <td>16,499</td>\n",
       "      <td>125,282</td>\n",
       "    </tr>\n",
       "    <tr>\n",
       "      <th>6</th>\n",
       "      <td>Samsung Galaxy M01 (Blue, 3GB RAM, 32GB Storag...</td>\n",
       "      <td>7,499</td>\n",
       "      <td>8,787</td>\n",
       "    </tr>\n",
       "    <tr>\n",
       "      <th>7</th>\n",
       "      <td>Redmi Note 9 (Pebble Grey, 4GB RAM 64GB Storag...</td>\n",
       "      <td>11,999</td>\n",
       "      <td>24,172</td>\n",
       "    </tr>\n",
       "    <tr>\n",
       "      <th>8</th>\n",
       "      <td>Redmi 9A (Nature Green, 2GB Ram, 32GB Storage)</td>\n",
       "      <td>6,999</td>\n",
       "      <td>11,268</td>\n",
       "    </tr>\n",
       "    <tr>\n",
       "      <th>9</th>\n",
       "      <td>Redmi 9A (Midnight Black, 3GB Ram, 32GB Storage)</td>\n",
       "      <td>7,499</td>\n",
       "      <td>11,268</td>\n",
       "    </tr>\n",
       "  </tbody>\n",
       "</table>\n",
       "</div>"
      ],
      "text/plain": [
       "                                        Product_name   price   rating\n",
       "0  Samsung Galaxy M31 (Ocean Blue, 6GB RAM, 128GB...  16,499  125,282\n",
       "1          Redmi 9 (Sky Blue, 4GB RAM, 64GB Storage)   8,999    9,094\n",
       "2  Samsung Galaxy M01 Core (Black, 2GB RAM, 32GB ...   5,999    7,722\n",
       "3  Samsung Galaxy M21 (Midnight Blue, 4GB RAM, 64...  13,999   84,433\n",
       "4  Redmi Note 9 Pro (Interstellar Black, 4GB RAM,...  12,999   28,720\n",
       "5  Samsung Galaxy M31 Prime Edition (Space Black,...  16,499  125,282\n",
       "6  Samsung Galaxy M01 (Blue, 3GB RAM, 32GB Storag...   7,499    8,787\n",
       "7  Redmi Note 9 (Pebble Grey, 4GB RAM 64GB Storag...  11,999   24,172\n",
       "8     Redmi 9A (Nature Green, 2GB Ram, 32GB Storage)   6,999   11,268\n",
       "9   Redmi 9A (Midnight Black, 3GB Ram, 32GB Storage)   7,499   11,268"
      ]
     },
     "execution_count": 15,
     "metadata": {},
     "output_type": "execute_result"
    }
   ],
   "source": [
    "jobs.head(10)"
   ]
  },
  {
   "cell_type": "code",
   "execution_count": 20,
   "metadata": {},
   "outputs": [],
   "source": [
    "jobs.to_csv(\"q7maim.csv\", index= False)"
   ]
  },
  {
   "cell_type": "code",
   "execution_count": 17,
   "metadata": {},
   "outputs": [],
   "source": [
    "val=driver.find_elements_by_css_selector(\"#search > div.s-desktop-width-max.s-desktop-content.sg-row > div.sg-col-16-of-20.sg-col.sg-col-8-of-12.sg-col-12-of-16 > div > span:nth-child(4) > div.s-main-slot.s-result-list.s-search-results.sg-row > div > div > span > div > div > div:nth-child(2) > div.sg-col-4-of-12.sg-col-4-of-16.sg-col.sg-col-4-of-20 > div > div > span > a > div > img\")"
   ]
  },
  {
   "cell_type": "code",
   "execution_count": 18,
   "metadata": {},
   "outputs": [],
   "source": [
    "val=list(map(lambda x:x.get_attribute(\"src\"),val))"
   ]
  },
  {
   "cell_type": "code",
   "execution_count": 19,
   "metadata": {},
   "outputs": [
    {
     "data": {
      "text/plain": [
       "['https://m.media-amazon.com/images/I/61EJv4xde4L._AC_UY218_.jpg',\n",
       " 'https://m.media-amazon.com/images/I/51Oycsxht9L._AC_UY218_.jpg',\n",
       " 'https://m.media-amazon.com/images/I/51EnyMldjGL._AC_UY218_.jpg',\n",
       " 'https://m.media-amazon.com/images/I/71ZsMOcpePL._AC_UY218_.jpg',\n",
       " 'https://m.media-amazon.com/images/I/51+yaqN2O0L._AC_UY218_.jpg',\n",
       " 'https://m.media-amazon.com/images/I/81TthwnRxML._AC_UY218_.jpg',\n",
       " 'https://m.media-amazon.com/images/I/71SVzNmepQL._AC_UY218_.jpg',\n",
       " 'https://m.media-amazon.com/images/I/712Ex7xDndL._AC_UY218_.jpg',\n",
       " 'https://m.media-amazon.com/images/I/61GAFSlKhDL._AC_UY218_.jpg',\n",
       " 'https://m.media-amazon.com/images/I/61RLkHfGCaL._AC_UY218_.jpg',\n",
       " 'https://m.media-amazon.com/images/I/71hqi389rcL._AC_UY218_.jpg',\n",
       " 'https://m.media-amazon.com/images/I/71h+C9wJCjL._AC_UY218_.jpg',\n",
       " 'https://m.media-amazon.com/images/I/71-Su4Wr0HL._AC_UY218_.jpg',\n",
       " 'https://m.media-amazon.com/images/I/61TYVblS44L._AC_UY218_.jpg',\n",
       " 'https://m.media-amazon.com/images/I/71QLvGIAq5L._AC_UY218_.jpg',\n",
       " 'https://m.media-amazon.com/images/I/61L1ItFgFHL._AC_UY218_.jpg']"
      ]
     },
     "execution_count": 19,
     "metadata": {},
     "output_type": "execute_result"
    }
   ],
   "source": [
    "val"
   ]
  },
  {
   "cell_type": "code",
   "execution_count": null,
   "metadata": {},
   "outputs": [],
   "source": []
  },
  {
   "cell_type": "code",
   "execution_count": null,
   "metadata": {},
   "outputs": [],
   "source": []
  },
  {
   "cell_type": "code",
   "execution_count": null,
   "metadata": {},
   "outputs": [],
   "source": []
  }
 ],
 "metadata": {
  "kernelspec": {
   "display_name": "Python 3",
   "language": "python",
   "name": "python3"
  },
  "language_info": {
   "codemirror_mode": {
    "name": "ipython",
    "version": 3
   },
   "file_extension": ".py",
   "mimetype": "text/x-python",
   "name": "python",
   "nbconvert_exporter": "python",
   "pygments_lexer": "ipython3",
   "version": "3.8.3"
  }
 },
 "nbformat": 4,
 "nbformat_minor": 4
}
