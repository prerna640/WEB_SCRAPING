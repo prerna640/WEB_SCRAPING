{
 "cells": [
  {
   "cell_type": "code",
   "execution_count": 1,
   "metadata": {},
   "outputs": [
    {
     "name": "stdout",
     "output_type": "stream",
     "text": [
      "Requirement already satisfied: selenium in c:\\users\\sgi\\anaconda3\\lib\\site-packages (3.141.0)\n",
      "Requirement already satisfied: urllib3 in c:\\users\\sgi\\anaconda3\\lib\\site-packages (from selenium) (1.25.9)\n"
     ]
    }
   ],
   "source": [
    "!pip install selenium"
   ]
  },
  {
   "cell_type": "code",
   "execution_count": 2,
   "metadata": {},
   "outputs": [],
   "source": [
    "import selenium\n",
    "import pandas as pd\n",
    "from selenium import webdriver"
   ]
  },
  {
   "cell_type": "code",
   "execution_count": 3,
   "metadata": {},
   "outputs": [],
   "source": [
    "#lets first connevt to the web driver\n",
    "driver=webdriver.Chrome(r\"D:\\flipnwork\\chromedriver.exe \")"
   ]
  },
  {
   "cell_type": "code",
   "execution_count": 4,
   "metadata": {},
   "outputs": [],
   "source": [
    "url=\"https://www.naukri.com/data-science-jobs?k=Data%20Science\""
   ]
  },
  {
   "cell_type": "code",
   "execution_count": 5,
   "metadata": {},
   "outputs": [],
   "source": [
    "driver.get(url)"
   ]
  },
  {
   "cell_type": "code",
   "execution_count": 27,
   "metadata": {},
   "outputs": [],
   "source": [
    "job_titles=[]\n",
    "company_list=[]\n",
    "location_list=[]\n",
    "experience=[]\n",
    "titles_tags=[]"
   ]
  },
  {
   "cell_type": "code",
   "execution_count": 28,
   "metadata": {},
   "outputs": [],
   "source": [
    "titles_tags=driver.find_elements_by_xpath(\"//a[@class='title fw500 ellipsis']\")\n",
    "#titles_tags=driver.find_elements_by_xpath('//*[@id=\"root\"]/div[3]/div[2]/section[2]/div[2]/article/div[1]/div[1]/a')\n"
   ]
  },
  {
   "cell_type": "code",
   "execution_count": 22,
   "metadata": {},
   "outputs": [
    {
     "data": {
      "text/plain": [
       "[<selenium.webdriver.remote.webelement.WebElement (session=\"464269bbea503da5324cf8156058b0bc\", element=\"52395e13-0bae-475d-9966-6c5d8ab429d7\")>,\n",
       " <selenium.webdriver.remote.webelement.WebElement (session=\"464269bbea503da5324cf8156058b0bc\", element=\"82daa214-331d-4570-a007-9dccad2ab91f\")>,\n",
       " <selenium.webdriver.remote.webelement.WebElement (session=\"464269bbea503da5324cf8156058b0bc\", element=\"6bd5de9b-6275-42ba-b501-94d3cfb94c23\")>,\n",
       " <selenium.webdriver.remote.webelement.WebElement (session=\"464269bbea503da5324cf8156058b0bc\", element=\"b02b396a-dcf8-4e4a-b540-90aaf7e0c1b1\")>]"
      ]
     },
     "execution_count": 22,
     "metadata": {},
     "output_type": "execute_result"
    }
   ],
   "source": [
    "titles_tags[0:4]"
   ]
  },
  {
   "cell_type": "code",
   "execution_count": 23,
   "metadata": {},
   "outputs": [
    {
     "data": {
      "text/plain": [
       "[<selenium.webdriver.remote.webelement.WebElement (session=\"464269bbea503da5324cf8156058b0bc\", element=\"52395e13-0bae-475d-9966-6c5d8ab429d7\")>,\n",
       " <selenium.webdriver.remote.webelement.WebElement (session=\"464269bbea503da5324cf8156058b0bc\", element=\"82daa214-331d-4570-a007-9dccad2ab91f\")>,\n",
       " <selenium.webdriver.remote.webelement.WebElement (session=\"464269bbea503da5324cf8156058b0bc\", element=\"6bd5de9b-6275-42ba-b501-94d3cfb94c23\")>,\n",
       " <selenium.webdriver.remote.webelement.WebElement (session=\"464269bbea503da5324cf8156058b0bc\", element=\"b02b396a-dcf8-4e4a-b540-90aaf7e0c1b1\")>,\n",
       " <selenium.webdriver.remote.webelement.WebElement (session=\"464269bbea503da5324cf8156058b0bc\", element=\"32b5166c-369f-40b7-b4b9-dced42105d2f\")>,\n",
       " <selenium.webdriver.remote.webelement.WebElement (session=\"464269bbea503da5324cf8156058b0bc\", element=\"3d2009f9-0143-4ead-80d8-e40bce27eed0\")>,\n",
       " <selenium.webdriver.remote.webelement.WebElement (session=\"464269bbea503da5324cf8156058b0bc\", element=\"ecec0550-f958-45c0-9544-1b370948f7bc\")>,\n",
       " <selenium.webdriver.remote.webelement.WebElement (session=\"464269bbea503da5324cf8156058b0bc\", element=\"fc0c50a7-7617-459f-8d6c-55f2a22c9541\")>,\n",
       " <selenium.webdriver.remote.webelement.WebElement (session=\"464269bbea503da5324cf8156058b0bc\", element=\"3d3a1075-48a5-476b-b55c-1e60172084af\")>,\n",
       " <selenium.webdriver.remote.webelement.WebElement (session=\"464269bbea503da5324cf8156058b0bc\", element=\"1819eec0-2e2c-483a-94ee-024babe6bfb0\")>,\n",
       " <selenium.webdriver.remote.webelement.WebElement (session=\"464269bbea503da5324cf8156058b0bc\", element=\"d7e8d09c-4d25-4b1d-9b47-f3b9b1e20d6a\")>,\n",
       " <selenium.webdriver.remote.webelement.WebElement (session=\"464269bbea503da5324cf8156058b0bc\", element=\"1366b806-baef-44ec-a2fc-314870928f89\")>,\n",
       " <selenium.webdriver.remote.webelement.WebElement (session=\"464269bbea503da5324cf8156058b0bc\", element=\"48d4eb60-46d3-4860-b643-cc7a17bed2af\")>,\n",
       " <selenium.webdriver.remote.webelement.WebElement (session=\"464269bbea503da5324cf8156058b0bc\", element=\"41fccb51-be21-4cf7-8fe1-247086d79008\")>,\n",
       " <selenium.webdriver.remote.webelement.WebElement (session=\"464269bbea503da5324cf8156058b0bc\", element=\"4addf641-c0c7-4d7d-b23a-d66d45eb156f\")>,\n",
       " <selenium.webdriver.remote.webelement.WebElement (session=\"464269bbea503da5324cf8156058b0bc\", element=\"3ca6c686-2485-4a7a-98d1-a83ccb1cb3d8\")>,\n",
       " <selenium.webdriver.remote.webelement.WebElement (session=\"464269bbea503da5324cf8156058b0bc\", element=\"83322fe3-6715-420d-be58-35bf19807259\")>,\n",
       " <selenium.webdriver.remote.webelement.WebElement (session=\"464269bbea503da5324cf8156058b0bc\", element=\"99cd80fd-3ce7-4d65-92fc-13c54651e1ff\")>,\n",
       " <selenium.webdriver.remote.webelement.WebElement (session=\"464269bbea503da5324cf8156058b0bc\", element=\"cde5ff7d-dff1-4f49-ac2f-dee0a5bb4232\")>,\n",
       " <selenium.webdriver.remote.webelement.WebElement (session=\"464269bbea503da5324cf8156058b0bc\", element=\"d2460797-d90e-4c92-9ce1-a3e1f7e69c6a\")>]"
      ]
     },
     "execution_count": 23,
     "metadata": {},
     "output_type": "execute_result"
    }
   ],
   "source": [
    "titles_tags"
   ]
  },
  {
   "cell_type": "code",
   "execution_count": 29,
   "metadata": {},
   "outputs": [
    {
     "data": {
      "text/plain": [
       "['Data Science Analyst',\n",
       " 'Data Science Analyst',\n",
       " 'Data Science',\n",
       " 'Data Science',\n",
       " 'HCL Tech is Hiring Data Science Engg. at Bangalore/Hyderabad Location',\n",
       " 'Content Strategist - Data Science',\n",
       " 'Technical Data Analyst – Data Science and Analytics',\n",
       " 'Data Science Engineer,SMART MFG & AI',\n",
       " 'Senior Data Science Analyst',\n",
       " 'Data Science Intern- DataTrained',\n",
       " 'Data science Specialist/ Expert- Biosimilars MSAT',\n",
       " 'Hiring Interns For DATA Science',\n",
       " 'Data Science Application Developer',\n",
       " 'Data Science Application Developer',\n",
       " 'Senior Manager- Data Science & Analytics',\n",
       " 'Director Data science',\n",
       " 'Senior Manager- Data Science & Analytics',\n",
       " 'Python Java data Science Senior Developer',\n",
       " 'Director Data Science',\n",
       " 'Senior Analyst-Data Science']"
      ]
     },
     "execution_count": 29,
     "metadata": {},
     "output_type": "execute_result"
    }
   ],
   "source": [
    "\n",
    "for i in titles_tags:\n",
    "    job_titles.append(i.text)\n",
    "job_titles   \n",
    "    \n",
    "    "
   ]
  },
  {
   "cell_type": "code",
   "execution_count": null,
   "metadata": {},
   "outputs": [],
   "source": []
  },
  {
   "cell_type": "code",
   "execution_count": null,
   "metadata": {},
   "outputs": [],
   "source": []
  },
  {
   "cell_type": "code",
   "execution_count": null,
   "metadata": {},
   "outputs": [],
   "source": []
  },
  {
   "cell_type": "code",
   "execution_count": null,
   "metadata": {},
   "outputs": [],
   "source": []
  },
  {
   "cell_type": "code",
   "execution_count": null,
   "metadata": {},
   "outputs": [],
   "source": []
  }
 ],
 "metadata": {
  "kernelspec": {
   "display_name": "Python 3",
   "language": "python",
   "name": "python3"
  },
  "language_info": {
   "codemirror_mode": {
    "name": "ipython",
    "version": 3
   },
   "file_extension": ".py",
   "mimetype": "text/x-python",
   "name": "python",
   "nbconvert_exporter": "python",
   "pygments_lexer": "ipython3",
   "version": "3.8.3"
  }
 },
 "nbformat": 4,
 "nbformat_minor": 4
}
