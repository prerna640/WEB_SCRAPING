{
 "cells": [
  {
   "cell_type": "code",
   "execution_count": 1,
   "metadata": {},
   "outputs": [],
   "source": [
    "import selenium\n",
    "import pandas as pd\n",
    "from selenium import webdriver\n",
    "import time"
   ]
  },
  {
   "cell_type": "code",
   "execution_count": 2,
   "metadata": {},
   "outputs": [],
   "source": [
    "#lets first connevt to the web driver\n",
    "driver=webdriver.Chrome(r\"D:\\flipnwork\\chromedriver.exe \")"
   ]
  },
  {
   "cell_type": "code",
   "execution_count": 3,
   "metadata": {},
   "outputs": [],
   "source": [
    "url=\"https://forecast.weather.gov/MapClick.php?lat=37.77493000000004&lon=-122.41941999999995#.YAPdzOgzbIV\""
   ]
  },
  {
   "cell_type": "code",
   "execution_count": 4,
   "metadata": {},
   "outputs": [],
   "source": [
    "driver.get(url)"
   ]
  },
  {
   "cell_type": "code",
   "execution_count": 14,
   "metadata": {},
   "outputs": [],
   "source": [
    "period=[]\n",
    "period_name=[]\n",
    "period=driver.find_elements_by_xpath(\"//p[@class='period-name']\")\n",
    "period_name.append(list(map(lambda x:x.text.replace(\"\\n\",\" \"),period)))"
   ]
  },
  {
   "cell_type": "code",
   "execution_count": 15,
   "metadata": {},
   "outputs": [
    {
     "data": {
      "text/plain": [
       "[['Tonight',\n",
       "  'Sunday',\n",
       "  'Sunday Night',\n",
       "  'M.L.King Day',\n",
       "  'Monday Night',\n",
       "  'Tuesday',\n",
       "  'Tuesday Night',\n",
       "  'Wednesday',\n",
       "  'Wednesday Night']]"
      ]
     },
     "execution_count": 15,
     "metadata": {},
     "output_type": "execute_result"
    }
   ],
   "source": [
    "period_name"
   ]
  },
  {
   "cell_type": "code",
   "execution_count": 21,
   "metadata": {},
   "outputs": [
    {
     "data": {
      "text/plain": [
       "['Tonight',\n",
       " 'Sunday',\n",
       " 'Sunday Night',\n",
       " 'M.L.King Day',\n",
       " 'Monday Night',\n",
       " 'Tuesday',\n",
       " 'Tuesday Night',\n",
       " 'Wednesday',\n",
       " 'Wednesday Night']"
      ]
     },
     "execution_count": 21,
     "metadata": {},
     "output_type": "execute_result"
    }
   ],
   "source": [
    "period_name1 = [val for sublist in period_name for val in sublist] \n",
    "period_name1"
   ]
  },
  {
   "cell_type": "code",
   "execution_count": null,
   "metadata": {},
   "outputs": [],
   "source": [
    "temperature"
   ]
  },
  {
   "cell_type": "code",
   "execution_count": 16,
   "metadata": {},
   "outputs": [],
   "source": [
    "description=[]\n",
    "des=[]\n",
    "des=driver.find_elements_by_xpath(\"//p[@class='short-desc']\")\n",
    "description.append(list(map(lambda x:x.text.replace(\"\\n\",\" \"),des)))"
   ]
  },
  {
   "cell_type": "code",
   "execution_count": 17,
   "metadata": {},
   "outputs": [
    {
     "data": {
      "text/plain": [
       "[['Mostly Clear',\n",
       "  'Sunny',\n",
       "  'Mostly Clear',\n",
       "  'Sunny and Breezy',\n",
       "  'Mostly Clear and Breezy',\n",
       "  'Sunny and Breezy',\n",
       "  'Clear',\n",
       "  'Sunny',\n",
       "  'Mostly Clear']]"
      ]
     },
     "execution_count": 17,
     "metadata": {},
     "output_type": "execute_result"
    }
   ],
   "source": [
    "description"
   ]
  },
  {
   "cell_type": "code",
   "execution_count": 22,
   "metadata": {},
   "outputs": [
    {
     "data": {
      "text/plain": [
       "['Mostly Clear',\n",
       " 'Sunny',\n",
       " 'Mostly Clear',\n",
       " 'Sunny and Breezy',\n",
       " 'Mostly Clear and Breezy',\n",
       " 'Sunny and Breezy',\n",
       " 'Clear',\n",
       " 'Sunny',\n",
       " 'Mostly Clear']"
      ]
     },
     "execution_count": 22,
     "metadata": {},
     "output_type": "execute_result"
    }
   ],
   "source": [
    "description1 = [val for sublist in description for val in sublist] \n",
    "description1"
   ]
  },
  {
   "cell_type": "code",
   "execution_count": 18,
   "metadata": {},
   "outputs": [],
   "source": [
    "temperature=[]\n",
    "temp=[]\n",
    "temp=driver.find_elements_by_xpath(\"//p[@class='temp temp-low']\")\n",
    "temperature.append(list(map(lambda x:x.text.replace(\"\\n\",\" \"),temp)))"
   ]
  },
  {
   "cell_type": "code",
   "execution_count": 19,
   "metadata": {},
   "outputs": [
    {
     "data": {
      "text/plain": [
       "[['Low: 50 °F', 'Low: 50 °F', 'Low: 52 °F', 'Low: 46 °F', 'Low: 45 °F']]"
      ]
     },
     "execution_count": 19,
     "metadata": {},
     "output_type": "execute_result"
    }
   ],
   "source": [
    "temperature"
   ]
  },
  {
   "cell_type": "code",
   "execution_count": 20,
   "metadata": {},
   "outputs": [
    {
     "data": {
      "text/plain": [
       "['Low: 50 °F', 'Low: 50 °F', 'Low: 52 °F', 'Low: 46 °F', 'Low: 45 °F']"
      ]
     },
     "execution_count": 20,
     "metadata": {},
     "output_type": "execute_result"
    }
   ],
   "source": [
    "\n",
    "temperature1 = [val for sublist in temperature for val in sublist] \n",
    "temperature1"
   ]
  },
  {
   "cell_type": "code",
   "execution_count": null,
   "metadata": {},
   "outputs": [],
   "source": [
    "class=\"\""
   ]
  },
  {
   "cell_type": "code",
   "execution_count": 31,
   "metadata": {},
   "outputs": [],
   "source": [
    "temperatureh=[]\n",
    "temph=[]\n",
    "temph=driver.find_elements_by_xpath(\"//p[@class='temp temp-high']\")\n",
    "temperatureh.append(list(map(lambda x:x.text.replace(\"\\n\",\" \"),temph)))"
   ]
  },
  {
   "cell_type": "code",
   "execution_count": 32,
   "metadata": {},
   "outputs": [
    {
     "data": {
      "text/plain": [
       "[['High: 69 °F', 'High: 72 °F', 'High: 67 °F', 'High: 64 °F']]"
      ]
     },
     "execution_count": 32,
     "metadata": {},
     "output_type": "execute_result"
    }
   ],
   "source": [
    "temperatureh"
   ]
  },
  {
   "cell_type": "code",
   "execution_count": 34,
   "metadata": {},
   "outputs": [
    {
     "data": {
      "text/plain": [
       "['High: 69 °F', 'High: 72 °F', 'High: 67 °F', 'High: 64 °F']"
      ]
     },
     "execution_count": 34,
     "metadata": {},
     "output_type": "execute_result"
    }
   ],
   "source": [
    "temperatureh1 = [val for sublist in temperatureh for val in sublist] \n",
    "temperatureh1"
   ]
  },
  {
   "cell_type": "code",
   "execution_count": 48,
   "metadata": {},
   "outputs": [
    {
     "ename": "TypeError",
     "evalue": "not all arguments converted during string formatting",
     "output_type": "error",
     "traceback": [
      "\u001b[1;31m---------------------------------------------------------------------------\u001b[0m",
      "\u001b[1;31mTypeError\u001b[0m                                 Traceback (most recent call last)",
      "\u001b[1;32m<ipython-input-48-5f5563fdd5f7>\u001b[0m in \u001b[0;36m<module>\u001b[1;34m\u001b[0m\n\u001b[0;32m      1\u001b[0m \u001b[0mnew\u001b[0m\u001b[1;33m=\u001b[0m\u001b[1;33m[\u001b[0m\u001b[1;33m]\u001b[0m\u001b[1;33m\u001b[0m\u001b[1;33m\u001b[0m\u001b[0m\n\u001b[0;32m      2\u001b[0m \u001b[1;32mfor\u001b[0m \u001b[0mi\u001b[0m \u001b[1;32min\u001b[0m \u001b[0mtemperatureh1\u001b[0m\u001b[1;33m:\u001b[0m\u001b[1;33m\u001b[0m\u001b[1;33m\u001b[0m\u001b[0m\n\u001b[1;32m----> 3\u001b[1;33m     \u001b[1;32mif\u001b[0m \u001b[0mi\u001b[0m\u001b[1;33m%\u001b[0m\u001b[1;36m2\u001b[0m\u001b[1;33m==\u001b[0m\u001b[1;36m0\u001b[0m\u001b[1;33m:\u001b[0m\u001b[1;33m\u001b[0m\u001b[1;33m\u001b[0m\u001b[0m\n\u001b[0m\u001b[0;32m      4\u001b[0m         \u001b[0mnew\u001b[0m\u001b[1;33m.\u001b[0m\u001b[0mappend\u001b[0m\u001b[1;33m(\u001b[0m\u001b[0mtemperatureh1\u001b[0m\u001b[1;33m)\u001b[0m\u001b[1;33m\u001b[0m\u001b[1;33m\u001b[0m\u001b[0m\n\u001b[0;32m      5\u001b[0m \u001b[0mnew\u001b[0m\u001b[1;33m\u001b[0m\u001b[1;33m\u001b[0m\u001b[0m\n",
      "\u001b[1;31mTypeError\u001b[0m: not all arguments converted during string formatting"
     ]
    }
   ],
   "source": [
    "new=[]\n",
    "new=temperatureh1[2*]"
   ]
  },
  {
   "cell_type": "code",
   "execution_count": null,
   "metadata": {},
   "outputs": [],
   "source": []
  },
  {
   "cell_type": "code",
   "execution_count": 25,
   "metadata": {},
   "outputs": [],
   "source": [
    "des11=[]\n",
    "des111=[]\n",
    "des11=driver.find_elements_by_xpath(\"//div[@class='col-sm-10 forecast-text']\")\n",
    "des111.append(list(map(lambda x:x.text.replace(\"\\n\",\" \"),des11)))"
   ]
  },
  {
   "cell_type": "code",
   "execution_count": 26,
   "metadata": {},
   "outputs": [
    {
     "data": {
      "text/plain": [
       "[['Mostly clear, with a low around 50. Calm wind.',\n",
       "  'Sunny, with a high near 69. Calm wind becoming west 5 to 7 mph in the afternoon.',\n",
       "  'Mostly clear, with a low around 50. West wind 3 to 8 mph.',\n",
       "  'Sunny, with a high near 72. Breezy, with a north wind 17 to 24 mph, with gusts as high as 43 mph.',\n",
       "  'Mostly clear, with a low around 52. Breezy, with a north northeast wind 20 to 23 mph, with gusts as high as 45 mph.',\n",
       "  'Sunny, with a high near 67. Breezy.',\n",
       "  'Clear, with a low around 46.',\n",
       "  'Sunny, with a high near 64.',\n",
       "  'Mostly clear, with a low around 45.',\n",
       "  'Mostly sunny, with a high near 61.',\n",
       "  'A slight chance of rain. Partly cloudy, with a low around 46.',\n",
       "  'A slight chance of rain. Mostly sunny, with a high near 57.',\n",
       "  'A slight chance of rain. Partly cloudy, with a low around 44.',\n",
       "  'A slight chance of rain. Mostly sunny, with a high near 57.']]"
      ]
     },
     "execution_count": 26,
     "metadata": {},
     "output_type": "execute_result"
    }
   ],
   "source": [
    "des111"
   ]
  },
  {
   "cell_type": "code",
   "execution_count": 27,
   "metadata": {},
   "outputs": [
    {
     "data": {
      "text/plain": [
       "['Mostly clear, with a low around 50. Calm wind.',\n",
       " 'Sunny, with a high near 69. Calm wind becoming west 5 to 7 mph in the afternoon.',\n",
       " 'Mostly clear, with a low around 50. West wind 3 to 8 mph.',\n",
       " 'Sunny, with a high near 72. Breezy, with a north wind 17 to 24 mph, with gusts as high as 43 mph.',\n",
       " 'Mostly clear, with a low around 52. Breezy, with a north northeast wind 20 to 23 mph, with gusts as high as 45 mph.',\n",
       " 'Sunny, with a high near 67. Breezy.',\n",
       " 'Clear, with a low around 46.',\n",
       " 'Sunny, with a high near 64.',\n",
       " 'Mostly clear, with a low around 45.',\n",
       " 'Mostly sunny, with a high near 61.',\n",
       " 'A slight chance of rain. Partly cloudy, with a low around 46.',\n",
       " 'A slight chance of rain. Mostly sunny, with a high near 57.',\n",
       " 'A slight chance of rain. Partly cloudy, with a low around 44.',\n",
       " 'A slight chance of rain. Mostly sunny, with a high near 57.']"
      ]
     },
     "execution_count": 27,
     "metadata": {},
     "output_type": "execute_result"
    }
   ],
   "source": [
    "des1111 = [val for sublist in des111 for val in sublist] \n",
    "des1111"
   ]
  },
  {
   "cell_type": "code",
   "execution_count": 28,
   "metadata": {},
   "outputs": [
    {
     "name": "stdout",
     "output_type": "stream",
     "text": [
      "9 9 5 14\n"
     ]
    }
   ],
   "source": [
    "print(len(period_name1),len(description1),len(temperature1),len(des1111))"
   ]
  },
  {
   "cell_type": "code",
   "execution_count": null,
   "metadata": {},
   "outputs": [],
   "source": [
    "import pandas as pd\n",
    "jobs=pd.DataFrame({})\n",
    "jobs['Period']=period_name1\n",
    "jobs['temperature']=description1\n",
    "jobs['description']=temperature1"
   ]
  },
  {
   "cell_type": "code",
   "execution_count": null,
   "metadata": {},
   "outputs": [],
   "source": [
    "jobs.to_csv(\"q8.csv\", index= False)"
   ]
  }
 ],
 "metadata": {
  "kernelspec": {
   "display_name": "Python 3",
   "language": "python",
   "name": "python3"
  },
  "language_info": {
   "codemirror_mode": {
    "name": "ipython",
    "version": 3
   },
   "file_extension": ".py",
   "mimetype": "text/x-python",
   "name": "python",
   "nbconvert_exporter": "python",
   "pygments_lexer": "ipython3",
   "version": "3.8.3"
  }
 },
 "nbformat": 4,
 "nbformat_minor": 4
}
